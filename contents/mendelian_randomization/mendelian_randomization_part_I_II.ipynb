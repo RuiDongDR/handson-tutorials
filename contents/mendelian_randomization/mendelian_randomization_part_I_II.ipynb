{
 "cells": [
  {
   "cell_type": "markdown",
   "id": "1",
   "metadata": {},
   "source": [
    "## Mendelian Randomization\n",
    "\n",
    "This notebook demonstrates how to perform Mendelian randomization (MR) to assess the causal relationship between complex traits.\n",
    "\n",
    "We pre-downloaded the summary statistics in VCF format from [IEU OpenGWAS proeject](https://gwas.mrcieu.ac.uk):\n",
    "\n",
    "- Low-Density Lipoprotein (LDL): [ieu-a-300](https://gwas.mrcieu.ac.uk/datasets/ieu-a-300/)\n",
    "- Coronary Heart Disease (CHD): [ieu-a-7](https://gwas.mrcieu.ac.uk/datasets/ieu-a-7/)\n",
    "- Myocardial Infarction (MI): [ieu-a-798](https://gwas.mrcieu.ac.uk/datasets/ieu-a-798/)\n",
    "\n",
    "Thanks to the [IEU OpenGWAS proeject](https://gwas.mrcieu.ac.uk) and based on their [data policy](https://gwas.mrcieu.ac.uk/about/):\n",
    "> We have made all the public data available for download. We are using the GWAS VCF format to store the GWAS summary data to ensure alignment with the hg19 reference sequence, and to enable very fast querying. More information is available here: https://github.com/MRCIEU/gwas-vcf-specification and on biorxiv.\n",
    "\n",
    "We also download a list of independent regions of Europeans in hg19 from [nygcresearch](https://bitbucket.org/nygcresearch/ldetect-data/src/master/EUR/fourier_ls-all.bed) with Copyright (c) 2015 Tomaz Berisa.\n",
    "\n",
    "\n",
    "\n",
    "**References**\n",
    "\n",
    "\n",
    "1. Lyon, M., Andrews, S. J., Elsworth, B., Gaunt, T. R., Hemani, G., & Marcora, E. (2020). The variant call format provides efficient and robust storage of GWAS summary statistics. bioRxiv. https://doi.org/10.1101/2020.05.29.115824\n",
    "2. Global Lipids Genetics Consortium. (2013). Discovery and refinement of loci associated with lipid levels. Nature Genetics, 45(12), 1274–1283. https://doi.org/10.1038/ng.2797\n",
    "3. Bowden, J., Davey Smith, G., & Burgess, S. (2015). Mendelian randomization with invalid instruments: Effect estimation and bias detection through Egger regression. International Journal of Epidemiology, 44(2), 512–525. https://doi.org/10.1093/ije/dyv080\n",
    "4. Davey Smith, G., & Ebrahim, S. (2003). 'Mendelian randomization': Can genetic epidemiology contribute to understanding environmental determinants of disease? International Journal of Epidemiology, 32(1), 1–22. https://doi.org/10.1093/ije/dyg070\n",
    "5. Davey Smith, G., & Hemani, G. (2014). Mendelian randomization: Genetic anchors for causal inference in epidemiological studies. Human Molecular Genetics, 23(R1), R89–R98. https://doi.org/10.1093/hmg/ddu328\n",
    "6. Pierce, B. L., & Burgess, S. (2013). Efficient design for Mendelian randomization studies: Subsample and 2-sample instrumental variable estimators. American Journal of Epidemiology, 178(7), 1177–1184. https://doi.org/10.1093/aje/kwt084\n",
    "\n"
   ]
  },
  {
   "cell_type": "code",
   "execution_count": 1,
   "id": "2",
   "metadata": {
    "tags": []
   },
   "outputs": [
    {
     "name": "stderr",
     "output_type": "stream",
     "text": [
      "TwoSampleMR version 0.6.8 \n",
      "\n",
      "\n",
      "  [>] New authentication requirements: https://mrcieu.github.io/ieugwasr/articles/guide.html#authentication.\n",
      "\n",
      "  [>] Major upgrades to our servers completed to improve service and stability.\n",
      "\n",
      "  [>] We need your help to shape our emerging roadmap!\n",
      "\n",
      "      Please take 2 minutes to give us feedback -\n",
      "\n",
      "      https://forms.office.com/e/eSr7EFAfCG\n",
      "\n",
      "\n",
      "Attaching package: ‘MendelianRandomization’\n",
      "\n",
      "\n",
      "The following objects are masked from ‘package:TwoSampleMR’:\n",
      "\n",
      "    mr_ivw, mr_median\n",
      "\n",
      "\n",
      "\n",
      "Attaching package: ‘dplyr’\n",
      "\n",
      "\n",
      "The following objects are masked from ‘package:data.table’:\n",
      "\n",
      "    between, first, last\n",
      "\n",
      "\n",
      "The following objects are masked from ‘package:stats’:\n",
      "\n",
      "    filter, lag\n",
      "\n",
      "\n",
      "The following objects are masked from ‘package:base’:\n",
      "\n",
      "    intersect, setdiff, setequal, union\n",
      "\n",
      "\n"
     ]
    }
   ],
   "source": [
    "# updated\n",
    "rm(list=ls())\n",
    "\n",
    "library(TwoSampleMR)\n",
    "library(MendelianRandomization)\n",
    "library(ggplot2)\n",
    "library(data.table)\n",
    "library(MRInstruments) \n",
    "library(dplyr)\n",
    "library(tidyr)"
   ]
  },
  {
   "cell_type": "code",
   "execution_count": 2,
   "id": "8561b78e-42f0-4868-b245-976ea48b5a23",
   "metadata": {
    "tags": []
   },
   "outputs": [],
   "source": [
    "load_vcf <- function(file_path, col_name, rows = -1) {\n",
    "  # Read VCF file using fread, skipping header lines\n",
    "  vcf_data <- fread(\n",
    "    file = file_path, \n",
    "    skip = \"#CHROM\", \n",
    "    header = TRUE, \n",
    "    nrows = rows\n",
    "  )\n",
    "\n",
    " # Split the 'INFO' column into separate components\n",
    "vcf_data <- vcf_data %>%\n",
    "  separate(INFO, into = c(\"AF\"), sep = \"=\", fill = \"right\", extra = \"drop\") %>%\n",
    "  mutate(AF = as.numeric(AF))  # Convert AF to numeric\n",
    "\n",
    "vcf_data <- vcf_data %>%\n",
    "  separate(\n",
    "    col_name, \n",
    "    into = c(\"ES\", \"SE\", \"LP\", \"AF2\", \"SS\", \"ID2\"),\n",
    "    sep = \":\",\n",
    "    fill = \"right\"\n",
    "  ) %>%\n",
    "  mutate(across(c(ES, SE, LP, AF2, SS), as.numeric))  # Convert relevant columns to numeric\n",
    "  return(vcf_data)\n",
    "}"
   ]
  },
  {
   "cell_type": "markdown",
   "id": "ecf3ef91-3063-452b-bf10-9af740168312",
   "metadata": {},
   "source": [
    "# MR from LDL to CHD"
   ]
  },
  {
   "cell_type": "markdown",
   "id": "1edc19d0-6c8e-4cc4-b560-5b4b89a82dbf",
   "metadata": {},
   "source": [
    "Firstly we run the Mendelian Randomization between LDL (low-density lipoprotein) and CHD (coronary heart disease).\n",
    "\n",
    "The summary statistics of LDL comes from this paper, and we pre-downloaded it in VCF format from [here](https://gwas.mrcieu.ac.uk/datasets/ieu-a-300/)\n",
    "> Global Lipids Genetics Consortium. Discovery and refinement of loci associated with lipid levels. Nat Genet 45, 1274–1283 (2013). https://doi.org/10.1038/ng.2797\n",
    "\n",
    "The data preview can be found here https://gwas.mrcieu.ac.uk/files/ieu-a-300/ieu-a-300_report.html#diagnostics"
   ]
  },
  {
   "cell_type": "markdown",
   "id": "24acf94c-de7e-42b7-bd78-bf597ed1d99c",
   "metadata": {},
   "source": [
    "## Import the exposure data and format"
   ]
  },
  {
   "cell_type": "code",
   "execution_count": 3,
   "id": "f02fdb16-add7-49d4-b6c2-bdb406c43f8a",
   "metadata": {
    "tags": []
   },
   "outputs": [
    {
     "name": "stderr",
     "output_type": "stream",
     "text": [
      "Warning message:\n",
      "“\u001b[1m\u001b[22mThere was 1 warning in `mutate()`.\n",
      "\u001b[1m\u001b[22m\u001b[36mℹ\u001b[39m In argument: `AF = as.numeric(AF)`.\n",
      "Caused by warning:\n",
      "\u001b[33m!\u001b[39m NAs introduced by coercion”\n",
      "Warning message:\n",
      "“\u001b[1m\u001b[22mThere was 1 warning in `mutate()`.\n",
      "\u001b[1m\u001b[22m\u001b[36mℹ\u001b[39m In argument: `across(c(ES, SE, LP, AF2, SS), as.numeric)`.\n",
      "Caused by warning:\n",
      "\u001b[33m!\u001b[39m NAs introduced by coercion”\n"
     ]
    }
   ],
   "source": [
    "# Specify the file path\n",
    "exposure_data_path <- \"./ieu-a-300.vcf.gz\"\n",
    "\n",
    "# Load the VCF summary statistics\n",
    "exposure_data_formatted <- load_vcf(exposure_data_path, col_name= \"ieu-a-300\")"
   ]
  },
  {
   "cell_type": "code",
   "execution_count": 4,
   "id": "34e6f5f8-63d9-49c6-b572-1b0b19ffed47",
   "metadata": {
    "tags": []
   },
   "outputs": [
    {
     "data": {
      "text/html": [
       "<table class=\"dataframe\">\n",
       "<caption>A data.frame: 3 × 18</caption>\n",
       "<thead>\n",
       "\t<tr><th></th><th scope=col>CHROM</th><th scope=col>POS</th><th scope=col>SNP</th><th scope=col>other_allele.exposure</th><th scope=col>effect_allele.exposure</th><th scope=col>QUAL</th><th scope=col>FILTER</th><th scope=col>AF</th><th scope=col>FORMAT</th><th scope=col>beta.exposure</th><th scope=col>se.exposure</th><th scope=col>LP</th><th scope=col>eaf.exposure</th><th scope=col>SS</th><th scope=col>ID2</th><th scope=col>pval.exposure</th><th scope=col>id.exposure</th><th scope=col>exposure</th></tr>\n",
       "\t<tr><th></th><th scope=col>&lt;int&gt;</th><th scope=col>&lt;int&gt;</th><th scope=col>&lt;chr&gt;</th><th scope=col>&lt;chr&gt;</th><th scope=col>&lt;chr&gt;</th><th scope=col>&lt;chr&gt;</th><th scope=col>&lt;chr&gt;</th><th scope=col>&lt;dbl&gt;</th><th scope=col>&lt;chr&gt;</th><th scope=col>&lt;dbl&gt;</th><th scope=col>&lt;dbl&gt;</th><th scope=col>&lt;dbl&gt;</th><th scope=col>&lt;dbl&gt;</th><th scope=col>&lt;dbl&gt;</th><th scope=col>&lt;chr&gt;</th><th scope=col>&lt;dbl&gt;</th><th scope=col>&lt;chr&gt;</th><th scope=col>&lt;chr&gt;</th></tr>\n",
       "</thead>\n",
       "<tbody>\n",
       "\t<tr><th scope=row>1</th><td>1</td><td>721290</td><td>rs12565286</td><td>G</td><td>C</td><td>.</td><td>PASS</td><td>NA</td><td>ES:SE:LP:AF:SS:ID</td><td>-0.0325</td><td>0.0194</td><td>1.201000</td><td>0.04354</td><td>54632.1</td><td>rs12565286</td><td>0.06295062</td><td>LDL</td><td>LDL</td></tr>\n",
       "\t<tr><th scope=row>2</th><td>1</td><td>752566</td><td>rs3094315 </td><td>G</td><td>A</td><td>.</td><td>PASS</td><td>NA</td><td>ES:SE:LP:AF:SS:ID</td><td> 0.0156</td><td>0.0100</td><td>0.572189</td><td>0.83640</td><td>52845.0</td><td>rs3094315 </td><td>0.26780026</td><td>LDL</td><td>LDL</td></tr>\n",
       "\t<tr><th scope=row>3</th><td>1</td><td>785050</td><td>rs2905062 </td><td>G</td><td>A</td><td>.</td><td>PASS</td><td>NA</td><td>ES:SE:LP:AF:SS:ID</td><td> 0.0178</td><td>0.0075</td><td>1.562570</td><td>0.86680</td><td>91375.0</td><td>rs2905062 </td><td>0.02737978</td><td>LDL</td><td>LDL</td></tr>\n",
       "</tbody>\n",
       "</table>\n"
      ],
      "text/latex": [
       "A data.frame: 3 × 18\n",
       "\\begin{tabular}{r|llllllllllllllllll}\n",
       "  & CHROM & POS & SNP & other\\_allele.exposure & effect\\_allele.exposure & QUAL & FILTER & AF & FORMAT & beta.exposure & se.exposure & LP & eaf.exposure & SS & ID2 & pval.exposure & id.exposure & exposure\\\\\n",
       "  & <int> & <int> & <chr> & <chr> & <chr> & <chr> & <chr> & <dbl> & <chr> & <dbl> & <dbl> & <dbl> & <dbl> & <dbl> & <chr> & <dbl> & <chr> & <chr>\\\\\n",
       "\\hline\n",
       "\t1 & 1 & 721290 & rs12565286 & G & C & . & PASS & NA & ES:SE:LP:AF:SS:ID & -0.0325 & 0.0194 & 1.201000 & 0.04354 & 54632.1 & rs12565286 & 0.06295062 & LDL & LDL\\\\\n",
       "\t2 & 1 & 752566 & rs3094315  & G & A & . & PASS & NA & ES:SE:LP:AF:SS:ID &  0.0156 & 0.0100 & 0.572189 & 0.83640 & 52845.0 & rs3094315  & 0.26780026 & LDL & LDL\\\\\n",
       "\t3 & 1 & 785050 & rs2905062  & G & A & . & PASS & NA & ES:SE:LP:AF:SS:ID &  0.0178 & 0.0075 & 1.562570 & 0.86680 & 91375.0 & rs2905062  & 0.02737978 & LDL & LDL\\\\\n",
       "\\end{tabular}\n"
      ],
      "text/markdown": [
       "\n",
       "A data.frame: 3 × 18\n",
       "\n",
       "| <!--/--> | CHROM &lt;int&gt; | POS &lt;int&gt; | SNP &lt;chr&gt; | other_allele.exposure &lt;chr&gt; | effect_allele.exposure &lt;chr&gt; | QUAL &lt;chr&gt; | FILTER &lt;chr&gt; | AF &lt;dbl&gt; | FORMAT &lt;chr&gt; | beta.exposure &lt;dbl&gt; | se.exposure &lt;dbl&gt; | LP &lt;dbl&gt; | eaf.exposure &lt;dbl&gt; | SS &lt;dbl&gt; | ID2 &lt;chr&gt; | pval.exposure &lt;dbl&gt; | id.exposure &lt;chr&gt; | exposure &lt;chr&gt; |\n",
       "|---|---|---|---|---|---|---|---|---|---|---|---|---|---|---|---|---|---|---|\n",
       "| 1 | 1 | 721290 | rs12565286 | G | C | . | PASS | NA | ES:SE:LP:AF:SS:ID | -0.0325 | 0.0194 | 1.201000 | 0.04354 | 54632.1 | rs12565286 | 0.06295062 | LDL | LDL |\n",
       "| 2 | 1 | 752566 | rs3094315  | G | A | . | PASS | NA | ES:SE:LP:AF:SS:ID |  0.0156 | 0.0100 | 0.572189 | 0.83640 | 52845.0 | rs3094315  | 0.26780026 | LDL | LDL |\n",
       "| 3 | 1 | 785050 | rs2905062  | G | A | . | PASS | NA | ES:SE:LP:AF:SS:ID |  0.0178 | 0.0075 | 1.562570 | 0.86680 | 91375.0 | rs2905062  | 0.02737978 | LDL | LDL |\n",
       "\n"
      ],
      "text/plain": [
       "  CHROM POS    SNP        other_allele.exposure effect_allele.exposure QUAL\n",
       "1 1     721290 rs12565286 G                     C                      .   \n",
       "2 1     752566 rs3094315  G                     A                      .   \n",
       "3 1     785050 rs2905062  G                     A                      .   \n",
       "  FILTER AF FORMAT            beta.exposure se.exposure LP       eaf.exposure\n",
       "1 PASS   NA ES:SE:LP:AF:SS:ID -0.0325       0.0194      1.201000 0.04354     \n",
       "2 PASS   NA ES:SE:LP:AF:SS:ID  0.0156       0.0100      0.572189 0.83640     \n",
       "3 PASS   NA ES:SE:LP:AF:SS:ID  0.0178       0.0075      1.562570 0.86680     \n",
       "  SS      ID2        pval.exposure id.exposure exposure\n",
       "1 54632.1 rs12565286 0.06295062    LDL         LDL     \n",
       "2 52845.0 rs3094315  0.26780026    LDL         LDL     \n",
       "3 91375.0 rs2905062  0.02737978    LDL         LDL     "
      ]
     },
     "metadata": {},
     "output_type": "display_data"
    },
    {
     "data": {
      "text/html": [
       "<style>\n",
       ".list-inline {list-style: none; margin:0; padding: 0}\n",
       ".list-inline>li {display: inline-block}\n",
       ".list-inline>li:not(:last-child)::after {content: \"\\00b7\"; padding: 0 .5ex}\n",
       "</style>\n",
       "<ol class=list-inline><li>2414488</li><li>18</li></ol>\n"
      ],
      "text/latex": [
       "\\begin{enumerate*}\n",
       "\\item 2414488\n",
       "\\item 18\n",
       "\\end{enumerate*}\n"
      ],
      "text/markdown": [
       "1. 2414488\n",
       "2. 18\n",
       "\n",
       "\n"
      ],
      "text/plain": [
       "[1] 2414488      18"
      ]
     },
     "metadata": {},
     "output_type": "display_data"
    }
   ],
   "source": [
    "exposure_data_formatted <- exposure_data_formatted %>%\n",
    "    dplyr::mutate(pval.exposure = 10^(-LP), id.exposure = \"LDL\", exposure = \"LDL\") %>%\n",
    "    rename(CHROM = `#CHROM`) %>%\n",
    "    rename(\n",
    "        SNP = ID,\n",
    "        effect_allele.exposure = ALT, # Effect allele\n",
    "        other_allele.exposure = REF, # Other allele\n",
    "        beta.exposure = ES, # Effect size (ES)\n",
    "        se.exposure = SE,\n",
    "        eaf.exposure = AF2\n",
    "    )\n",
    "\n",
    "head(exposure_data_formatted, 3)\n",
    "dim(exposure_data_formatted)"
   ]
  },
  {
   "cell_type": "markdown",
   "id": "c3ea9ffb-5650-41fa-b667-9391a6718ba6",
   "metadata": {},
   "source": [
    "## Independent variants"
   ]
  },
  {
   "cell_type": "markdown",
   "id": "73deb81e-c7a3-4c91-9a58-929a4f95fbef",
   "metadata": {},
   "source": [
    "In the TwoSampleMR package you can also use function [clump_date](https://mrcieu.github.io/TwoSampleMR/reference/clump_data.html) with token setup for yourself. However, here we provide a list of independent regions for Europeans (download link: https://bitbucket.org/nygcresearch/ldetect-data/src/master/) and select the top variant in each region to be instrumental variables, so that they will be independent from each other."
   ]
  },
  {
   "cell_type": "code",
   "execution_count": 5,
   "id": "4ff30281-83b7-42db-a758-dca1a7949cde",
   "metadata": {
    "tags": []
   },
   "outputs": [],
   "source": [
    "independent_regions <- fread(\"./fourier_ls-all.bed\")"
   ]
  },
  {
   "cell_type": "markdown",
   "id": "b0e1db8d-9c4b-408f-9f71-0f5a9a701696",
   "metadata": {},
   "source": [
    "To save us some computational time, we only filter out the variants with p-value below 0.05 (because the instrumental variables need to be significant in MR)."
   ]
  },
  {
   "cell_type": "code",
   "execution_count": 6,
   "id": "ff9ad025-7336-41c6-8bb2-1289f793792a",
   "metadata": {
    "tags": []
   },
   "outputs": [],
   "source": [
    "exposure_data_formatted_p_0.05 <- exposure_data_formatted %>%\n",
    "    filter(pval.exposure < 0.05)"
   ]
  },
  {
   "cell_type": "code",
   "execution_count": 7,
   "id": "75a0fb9f-07cf-4753-8d2c-c9c04eb2984d",
   "metadata": {
    "tags": []
   },
   "outputs": [
    {
     "name": "stdout",
     "output_type": "stream",
     "text": [
      "[1] \"Among all 1703 independent regions,  this returns 1486 regions that cover at least one SNP that has a p-value smaller than 0.05. Then we extract the top SNP with the smallest p-value in each region.\"\n"
     ]
    }
   ],
   "source": [
    "independent_regions = independent_regions %>%\n",
    "    mutate(CHR=as.integer(sub(pattern = \"chr\", replacement = \"\", chr))) %>%\n",
    "    select(!chr)\n",
    "independent_regions$SNPID = NA\n",
    "independent_regions$minp = NA\n",
    "\n",
    "time_1 <- Sys.time()\n",
    "for (index in 1:nrow(independent_regions)) {\n",
    "    chr_index = independent_regions$CHR[index]\n",
    "    start_pos = independent_regions$start[index]\n",
    "    end_pos = independent_regions$stop[index]\n",
    "    tmp = exposure_data_formatted_p_0.05 %>%\n",
    "        filter(CHROM==chr_index & as.integer(POS) >= start_pos & as.integer(POS) < end_pos)\n",
    "    if (nrow(tmp) != 0) {\n",
    "        # Find the variant with the smallest p-value\n",
    "        best_variant <- tmp[which.min(tmp$pval.exposure), ]\n",
    "        \n",
    "        # Assign the SNPID and minp for the selected variant\n",
    "        independent_regions$SNPID[index] = best_variant$ID\n",
    "        independent_regions$minp[index] = best_variant$pval.exposure\n",
    "    }\n",
    "}\n",
    "time_2 <- Sys.time()\n",
    "independent_regions_noNA <- independent_regions %>%\n",
    "    filter(!is.na(SNPID))\n",
    "print(paste0(\"Among all \", as.character(nrow(independent_regions)), \n",
    "             \" independent regions, \",\" this returns \", as.character(nrow(independent_regions_noNA)), \n",
    "             \" regions that cover at least one SNP that has a p-value smaller than 0.05. Then we extract the top SNP with the smallest p-value in each region.\"))"
   ]
  },
  {
   "cell_type": "code",
   "execution_count": 8,
   "id": "93263388-5088-4eb8-8879-1cb564b02581",
   "metadata": {
    "tags": []
   },
   "outputs": [],
   "source": [
    "exposure_data_formatted_selected_IV <- exposure_data_formatted_p_0.05 %>%\n",
    "    filter(SNP %in% independent_regions_noNA$SNPID)"
   ]
  },
  {
   "cell_type": "markdown",
   "id": "726cee4c-8148-4509-b48b-f93ee1043bf5",
   "metadata": {},
   "source": [
    "## Import the outcome data"
   ]
  },
  {
   "cell_type": "markdown",
   "id": "73e186f7-9e02-433b-a01b-aeb93e4e20c0",
   "metadata": {},
   "source": [
    "The CHD data can be downloaded from [here](https://gwas.mrcieu.ac.uk/datasets/ieu-a-7/). "
   ]
  },
  {
   "cell_type": "code",
   "execution_count": 10,
   "id": "4",
   "metadata": {
    "tags": []
   },
   "outputs": [
    {
     "name": "stderr",
     "output_type": "stream",
     "text": [
      "Warning message:\n",
      "“\u001b[1m\u001b[22mThere was 1 warning in `mutate()`.\n",
      "\u001b[1m\u001b[22m\u001b[36mℹ\u001b[39m In argument: `AF = as.numeric(AF)`.\n",
      "Caused by warning:\n",
      "\u001b[33m!\u001b[39m NAs introduced by coercion”\n"
     ]
    }
   ],
   "source": [
    "# Specify the file path\n",
    "outcome_data_path_1 <- \"./ieu-a-7.vcf.gz\"\n",
    "\n",
    "# Load the VCF summary statistics\n",
    "outcome_data_formatted_1 <- load_vcf(outcome_data_path_1, col_name = \"ieu-a-7\")"
   ]
  },
  {
   "cell_type": "markdown",
   "id": "804a4e2f-d334-4bc9-b24b-2a0a4db0db4d",
   "metadata": {},
   "source": [
    "## Harmonize the data"
   ]
  },
  {
   "cell_type": "code",
   "execution_count": 11,
   "id": "e2399f6c-3274-431f-b6e0-66d716318a62",
   "metadata": {
    "tags": []
   },
   "outputs": [
    {
     "data": {
      "text/html": [
       "<table class=\"dataframe\">\n",
       "<caption>A data.frame: 3 × 18</caption>\n",
       "<thead>\n",
       "\t<tr><th></th><th scope=col>CHROM</th><th scope=col>POS</th><th scope=col>SNP</th><th scope=col>other_allele.outcome</th><th scope=col>effect_allele.outcome</th><th scope=col>QUAL</th><th scope=col>FILTER</th><th scope=col>AF</th><th scope=col>FORMAT</th><th scope=col>beta.outcome</th><th scope=col>se.outcome</th><th scope=col>LP</th><th scope=col>eaf.outcome</th><th scope=col>SS</th><th scope=col>ID2</th><th scope=col>pval.outcome</th><th scope=col>id.outcome</th><th scope=col>outcome</th></tr>\n",
       "\t<tr><th></th><th scope=col>&lt;chr&gt;</th><th scope=col>&lt;int&gt;</th><th scope=col>&lt;chr&gt;</th><th scope=col>&lt;chr&gt;</th><th scope=col>&lt;chr&gt;</th><th scope=col>&lt;chr&gt;</th><th scope=col>&lt;chr&gt;</th><th scope=col>&lt;dbl&gt;</th><th scope=col>&lt;chr&gt;</th><th scope=col>&lt;dbl&gt;</th><th scope=col>&lt;dbl&gt;</th><th scope=col>&lt;dbl&gt;</th><th scope=col>&lt;dbl&gt;</th><th scope=col>&lt;dbl&gt;</th><th scope=col>&lt;chr&gt;</th><th scope=col>&lt;dbl&gt;</th><th scope=col>&lt;chr&gt;</th><th scope=col>&lt;chr&gt;</th></tr>\n",
       "</thead>\n",
       "<tbody>\n",
       "\t<tr><th scope=row>1</th><td>1</td><td>752566</td><td>rs3094315</td><td>G</td><td>A</td><td>.</td><td>PASS</td><td>NA</td><td>ES:SE:LP:AF:SS:ID</td><td>-0.005243</td><td>0.0157652</td><td>0.1310850</td><td>0.763018</td><td>184305</td><td>rs3094315</td><td>0.7394605</td><td>CHD</td><td>CHD</td></tr>\n",
       "\t<tr><th scope=row>2</th><td>1</td><td>752721</td><td>rs3131972</td><td>A</td><td>G</td><td>.</td><td>PASS</td><td>NA</td><td>ES:SE:LP:AF:SS:ID</td><td>-0.003032</td><td>0.0156381</td><td>0.0724935</td><td>0.740969</td><td>184305</td><td>rs3131972</td><td>0.8462652</td><td>CHD</td><td>CHD</td></tr>\n",
       "\t<tr><th scope=row>3</th><td>1</td><td>752894</td><td>rs3131971</td><td>T</td><td>C</td><td>.</td><td>PASS</td><td>NA</td><td>ES:SE:LP:AF:SS:ID</td><td> 0.004640</td><td>0.0162377</td><td>0.1106610</td><td>0.744287</td><td>184305</td><td>rs3131971</td><td>0.7750666</td><td>CHD</td><td>CHD</td></tr>\n",
       "</tbody>\n",
       "</table>\n"
      ],
      "text/latex": [
       "A data.frame: 3 × 18\n",
       "\\begin{tabular}{r|llllllllllllllllll}\n",
       "  & CHROM & POS & SNP & other\\_allele.outcome & effect\\_allele.outcome & QUAL & FILTER & AF & FORMAT & beta.outcome & se.outcome & LP & eaf.outcome & SS & ID2 & pval.outcome & id.outcome & outcome\\\\\n",
       "  & <chr> & <int> & <chr> & <chr> & <chr> & <chr> & <chr> & <dbl> & <chr> & <dbl> & <dbl> & <dbl> & <dbl> & <dbl> & <chr> & <dbl> & <chr> & <chr>\\\\\n",
       "\\hline\n",
       "\t1 & 1 & 752566 & rs3094315 & G & A & . & PASS & NA & ES:SE:LP:AF:SS:ID & -0.005243 & 0.0157652 & 0.1310850 & 0.763018 & 184305 & rs3094315 & 0.7394605 & CHD & CHD\\\\\n",
       "\t2 & 1 & 752721 & rs3131972 & A & G & . & PASS & NA & ES:SE:LP:AF:SS:ID & -0.003032 & 0.0156381 & 0.0724935 & 0.740969 & 184305 & rs3131972 & 0.8462652 & CHD & CHD\\\\\n",
       "\t3 & 1 & 752894 & rs3131971 & T & C & . & PASS & NA & ES:SE:LP:AF:SS:ID &  0.004640 & 0.0162377 & 0.1106610 & 0.744287 & 184305 & rs3131971 & 0.7750666 & CHD & CHD\\\\\n",
       "\\end{tabular}\n"
      ],
      "text/markdown": [
       "\n",
       "A data.frame: 3 × 18\n",
       "\n",
       "| <!--/--> | CHROM &lt;chr&gt; | POS &lt;int&gt; | SNP &lt;chr&gt; | other_allele.outcome &lt;chr&gt; | effect_allele.outcome &lt;chr&gt; | QUAL &lt;chr&gt; | FILTER &lt;chr&gt; | AF &lt;dbl&gt; | FORMAT &lt;chr&gt; | beta.outcome &lt;dbl&gt; | se.outcome &lt;dbl&gt; | LP &lt;dbl&gt; | eaf.outcome &lt;dbl&gt; | SS &lt;dbl&gt; | ID2 &lt;chr&gt; | pval.outcome &lt;dbl&gt; | id.outcome &lt;chr&gt; | outcome &lt;chr&gt; |\n",
       "|---|---|---|---|---|---|---|---|---|---|---|---|---|---|---|---|---|---|---|\n",
       "| 1 | 1 | 752566 | rs3094315 | G | A | . | PASS | NA | ES:SE:LP:AF:SS:ID | -0.005243 | 0.0157652 | 0.1310850 | 0.763018 | 184305 | rs3094315 | 0.7394605 | CHD | CHD |\n",
       "| 2 | 1 | 752721 | rs3131972 | A | G | . | PASS | NA | ES:SE:LP:AF:SS:ID | -0.003032 | 0.0156381 | 0.0724935 | 0.740969 | 184305 | rs3131972 | 0.8462652 | CHD | CHD |\n",
       "| 3 | 1 | 752894 | rs3131971 | T | C | . | PASS | NA | ES:SE:LP:AF:SS:ID |  0.004640 | 0.0162377 | 0.1106610 | 0.744287 | 184305 | rs3131971 | 0.7750666 | CHD | CHD |\n",
       "\n"
      ],
      "text/plain": [
       "  CHROM POS    SNP       other_allele.outcome effect_allele.outcome QUAL FILTER\n",
       "1 1     752566 rs3094315 G                    A                     .    PASS  \n",
       "2 1     752721 rs3131972 A                    G                     .    PASS  \n",
       "3 1     752894 rs3131971 T                    C                     .    PASS  \n",
       "  AF FORMAT            beta.outcome se.outcome LP        eaf.outcome SS    \n",
       "1 NA ES:SE:LP:AF:SS:ID -0.005243    0.0157652  0.1310850 0.763018    184305\n",
       "2 NA ES:SE:LP:AF:SS:ID -0.003032    0.0156381  0.0724935 0.740969    184305\n",
       "3 NA ES:SE:LP:AF:SS:ID  0.004640    0.0162377  0.1106610 0.744287    184305\n",
       "  ID2       pval.outcome id.outcome outcome\n",
       "1 rs3094315 0.7394605    CHD        CHD    \n",
       "2 rs3131972 0.8462652    CHD        CHD    \n",
       "3 rs3131971 0.7750666    CHD        CHD    "
      ]
     },
     "metadata": {},
     "output_type": "display_data"
    }
   ],
   "source": [
    "# Outcome data formatting with correct column names for TwoSampleMR\n",
    "outcome_data_formatted_1 <- outcome_data_formatted_1 %>%\n",
    "    dplyr::mutate(pval.outcome = 10^(-LP), id.outcome = \"CHD\", outcome = \"CHD\") %>%\n",
    "    rename(CHROM = `#CHROM`) %>%\n",
    "    rename(\n",
    "        SNP = ID,\n",
    "        effect_allele.outcome = ALT, # Effect allele\n",
    "        other_allele.outcome = REF, # Other allele\n",
    "        beta.outcome = ES, # Effect size (ES)\n",
    "        se.outcome = SE,\n",
    "        eaf.outcome = AF2\n",
    "    )\n",
    "head(outcome_data_formatted_1, 3)"
   ]
  },
  {
   "cell_type": "code",
   "execution_count": 12,
   "id": "3a0e6806-cf15-46a1-9d27-ace43dc43ce7",
   "metadata": {
    "tags": []
   },
   "outputs": [
    {
     "name": "stderr",
     "output_type": "stream",
     "text": [
      "Harmonising LDL (LDL) and CHD (CHD)\n",
      "\n",
      "Removing the following SNPs for being palindromic with intermediate allele frequencies:\n",
      "rs12480689, rs2954029, rs360276, rs3845356, rs3927680, rs6550635, rs847812\n",
      "\n"
     ]
    }
   ],
   "source": [
    "# Harmonize the data\n",
    "harmonized_data_1 <- harmonise_data(exposure_data_formatted_selected_IV, outcome_data_formatted_1)"
   ]
  },
  {
   "cell_type": "code",
   "execution_count": 13,
   "id": "7be2edb8-4c57-47d0-bb60-7f9174b0282d",
   "metadata": {
    "tags": []
   },
   "outputs": [
    {
     "data": {
      "text/html": [
       "<table class=\"dataframe\">\n",
       "<caption>A data.frame: 3 × 42</caption>\n",
       "<thead>\n",
       "\t<tr><th></th><th scope=col>SNP</th><th scope=col>effect_allele.exposure</th><th scope=col>other_allele.exposure</th><th scope=col>effect_allele.outcome</th><th scope=col>other_allele.outcome</th><th scope=col>beta.exposure</th><th scope=col>beta.outcome</th><th scope=col>eaf.exposure</th><th scope=col>eaf.outcome</th><th scope=col>remove</th><th scope=col>⋯</th><th scope=col>LP.y</th><th scope=col>SS.y</th><th scope=col>ID2.y</th><th scope=col>pval.exposure</th><th scope=col>id.exposure</th><th scope=col>exposure</th><th scope=col>action</th><th scope=col>SNP_index</th><th scope=col>mr_keep</th><th scope=col>samplesize.outcome</th></tr>\n",
       "\t<tr><th></th><th scope=col>&lt;chr&gt;</th><th scope=col>&lt;chr&gt;</th><th scope=col>&lt;chr&gt;</th><th scope=col>&lt;chr&gt;</th><th scope=col>&lt;chr&gt;</th><th scope=col>&lt;dbl&gt;</th><th scope=col>&lt;dbl&gt;</th><th scope=col>&lt;dbl&gt;</th><th scope=col>&lt;dbl&gt;</th><th scope=col>&lt;lgl&gt;</th><th scope=col>⋯</th><th scope=col>&lt;dbl&gt;</th><th scope=col>&lt;dbl&gt;</th><th scope=col>&lt;chr&gt;</th><th scope=col>&lt;dbl&gt;</th><th scope=col>&lt;chr&gt;</th><th scope=col>&lt;chr&gt;</th><th scope=col>&lt;dbl&gt;</th><th scope=col>&lt;int&gt;</th><th scope=col>&lt;lgl&gt;</th><th scope=col>&lt;lgl&gt;</th></tr>\n",
       "</thead>\n",
       "<tbody>\n",
       "\t<tr><th scope=row>1</th><td>rs10012461</td><td>T</td><td>G</td><td>T</td><td>G</td><td> 0.0429</td><td> 0.021325</td><td>0.03694</td><td>0.052375</td><td>FALSE</td><td>⋯</td><td>2.52900</td><td> 89888</td><td>rs10012461</td><td>2.958012e-03</td><td>LDL</td><td>LDL</td><td>2</td><td>1</td><td>TRUE</td><td>NA</td></tr>\n",
       "\t<tr><th scope=row>2</th><td>rs10026790</td><td>A</td><td>G</td><td>A</td><td>G</td><td>-0.0210</td><td>-0.037817</td><td>0.24800</td><td>0.257442</td><td>FALSE</td><td>⋯</td><td>5.59261</td><td>173049</td><td>rs10026790</td><td>2.554995e-06</td><td>LDL</td><td>LDL</td><td>2</td><td>1</td><td>TRUE</td><td>NA</td></tr>\n",
       "\t<tr><th scope=row>3</th><td>rs1003649 </td><td>G</td><td>A</td><td>G</td><td>A</td><td> 0.0601</td><td> 0.000302</td><td>0.02902</td><td>0.041565</td><td>FALSE</td><td>⋯</td><td>2.30671</td><td> 82359</td><td>rs1003649 </td><td>4.935032e-03</td><td>LDL</td><td>LDL</td><td>2</td><td>1</td><td>TRUE</td><td>NA</td></tr>\n",
       "</tbody>\n",
       "</table>\n"
      ],
      "text/latex": [
       "A data.frame: 3 × 42\n",
       "\\begin{tabular}{r|lllllllllllllllllllll}\n",
       "  & SNP & effect\\_allele.exposure & other\\_allele.exposure & effect\\_allele.outcome & other\\_allele.outcome & beta.exposure & beta.outcome & eaf.exposure & eaf.outcome & remove & ⋯ & LP.y & SS.y & ID2.y & pval.exposure & id.exposure & exposure & action & SNP\\_index & mr\\_keep & samplesize.outcome\\\\\n",
       "  & <chr> & <chr> & <chr> & <chr> & <chr> & <dbl> & <dbl> & <dbl> & <dbl> & <lgl> & ⋯ & <dbl> & <dbl> & <chr> & <dbl> & <chr> & <chr> & <dbl> & <int> & <lgl> & <lgl>\\\\\n",
       "\\hline\n",
       "\t1 & rs10012461 & T & G & T & G &  0.0429 &  0.021325 & 0.03694 & 0.052375 & FALSE & ⋯ & 2.52900 &  89888 & rs10012461 & 2.958012e-03 & LDL & LDL & 2 & 1 & TRUE & NA\\\\\n",
       "\t2 & rs10026790 & A & G & A & G & -0.0210 & -0.037817 & 0.24800 & 0.257442 & FALSE & ⋯ & 5.59261 & 173049 & rs10026790 & 2.554995e-06 & LDL & LDL & 2 & 1 & TRUE & NA\\\\\n",
       "\t3 & rs1003649  & G & A & G & A &  0.0601 &  0.000302 & 0.02902 & 0.041565 & FALSE & ⋯ & 2.30671 &  82359 & rs1003649  & 4.935032e-03 & LDL & LDL & 2 & 1 & TRUE & NA\\\\\n",
       "\\end{tabular}\n"
      ],
      "text/markdown": [
       "\n",
       "A data.frame: 3 × 42\n",
       "\n",
       "| <!--/--> | SNP &lt;chr&gt; | effect_allele.exposure &lt;chr&gt; | other_allele.exposure &lt;chr&gt; | effect_allele.outcome &lt;chr&gt; | other_allele.outcome &lt;chr&gt; | beta.exposure &lt;dbl&gt; | beta.outcome &lt;dbl&gt; | eaf.exposure &lt;dbl&gt; | eaf.outcome &lt;dbl&gt; | remove &lt;lgl&gt; | ⋯ ⋯ | LP.y &lt;dbl&gt; | SS.y &lt;dbl&gt; | ID2.y &lt;chr&gt; | pval.exposure &lt;dbl&gt; | id.exposure &lt;chr&gt; | exposure &lt;chr&gt; | action &lt;dbl&gt; | SNP_index &lt;int&gt; | mr_keep &lt;lgl&gt; | samplesize.outcome &lt;lgl&gt; |\n",
       "|---|---|---|---|---|---|---|---|---|---|---|---|---|---|---|---|---|---|---|---|---|---|\n",
       "| 1 | rs10012461 | T | G | T | G |  0.0429 |  0.021325 | 0.03694 | 0.052375 | FALSE | ⋯ | 2.52900 |  89888 | rs10012461 | 2.958012e-03 | LDL | LDL | 2 | 1 | TRUE | NA |\n",
       "| 2 | rs10026790 | A | G | A | G | -0.0210 | -0.037817 | 0.24800 | 0.257442 | FALSE | ⋯ | 5.59261 | 173049 | rs10026790 | 2.554995e-06 | LDL | LDL | 2 | 1 | TRUE | NA |\n",
       "| 3 | rs1003649  | G | A | G | A |  0.0601 |  0.000302 | 0.02902 | 0.041565 | FALSE | ⋯ | 2.30671 |  82359 | rs1003649  | 4.935032e-03 | LDL | LDL | 2 | 1 | TRUE | NA |\n",
       "\n"
      ],
      "text/plain": [
       "  SNP        effect_allele.exposure other_allele.exposure effect_allele.outcome\n",
       "1 rs10012461 T                      G                     T                    \n",
       "2 rs10026790 A                      G                     A                    \n",
       "3 rs1003649  G                      A                     G                    \n",
       "  other_allele.outcome beta.exposure beta.outcome eaf.exposure eaf.outcome\n",
       "1 G                     0.0429        0.021325    0.03694      0.052375   \n",
       "2 G                    -0.0210       -0.037817    0.24800      0.257442   \n",
       "3 A                     0.0601        0.000302    0.02902      0.041565   \n",
       "  remove ⋯ LP.y    SS.y   ID2.y      pval.exposure id.exposure exposure action\n",
       "1 FALSE  ⋯ 2.52900  89888 rs10012461 2.958012e-03  LDL         LDL      2     \n",
       "2 FALSE  ⋯ 5.59261 173049 rs10026790 2.554995e-06  LDL         LDL      2     \n",
       "3 FALSE  ⋯ 2.30671  82359 rs1003649  4.935032e-03  LDL         LDL      2     \n",
       "  SNP_index mr_keep samplesize.outcome\n",
       "1 1         TRUE    NA                \n",
       "2 1         TRUE    NA                \n",
       "3 1         TRUE    NA                "
      ]
     },
     "metadata": {},
     "output_type": "display_data"
    },
    {
     "data": {
      "text/html": [
       "<style>\n",
       ".list-inline {list-style: none; margin:0; padding: 0}\n",
       ".list-inline>li {display: inline-block}\n",
       ".list-inline>li:not(:last-child)::after {content: \"\\00b7\"; padding: 0 .5ex}\n",
       "</style>\n",
       "<ol class=list-inline><li>1474</li><li>42</li></ol>\n"
      ],
      "text/latex": [
       "\\begin{enumerate*}\n",
       "\\item 1474\n",
       "\\item 42\n",
       "\\end{enumerate*}\n"
      ],
      "text/markdown": [
       "1. 1474\n",
       "2. 42\n",
       "\n",
       "\n"
      ],
      "text/plain": [
       "[1] 1474   42"
      ]
     },
     "metadata": {},
     "output_type": "display_data"
    }
   ],
   "source": [
    "head(harmonized_data_1, 3)\n",
    "dim(harmonized_data_1)"
   ]
  },
  {
   "cell_type": "code",
   "execution_count": 14,
   "id": "b6b96645-e42b-4633-a857-f7f533ad651f",
   "metadata": {
    "tags": []
   },
   "outputs": [],
   "source": [
    "harmonized_data_1 <- harmonized_data_1 %>% filter(mr_keep = TRUE)"
   ]
  },
  {
   "cell_type": "markdown",
   "id": "b83910f6-7976-4285-bf65-a52576efb3bc",
   "metadata": {},
   "source": [
    "## Run MR analysis"
   ]
  },
  {
   "cell_type": "code",
   "execution_count": 15,
   "id": "de9bc9d8-6d0c-4c0d-a889-1ca141c60c31",
   "metadata": {
    "tags": []
   },
   "outputs": [
    {
     "name": "stderr",
     "output_type": "stream",
     "text": [
      "Analysing 'LDL' on 'CHD'\n",
      "\n"
     ]
    }
   ],
   "source": [
    "####MR ANALYSIS####\n",
    "res1 <- suppressWarnings(mr(harmonized_data_1, method_list=c(\"mr_ivw\", \"mr_egger_regression\", \"mr_weighted_median\")))"
   ]
  },
  {
   "cell_type": "code",
   "execution_count": 16,
   "id": "1354df9f-1b79-4ae1-974b-a3dca1fdf6cc",
   "metadata": {
    "tags": []
   },
   "outputs": [
    {
     "data": {
      "text/html": [
       "<table class=\"dataframe\">\n",
       "<caption>A data.frame: 3 × 14</caption>\n",
       "<thead>\n",
       "\t<tr><th scope=col>id.exposure</th><th scope=col>id.outcome</th><th scope=col>outcome</th><th scope=col>exposure</th><th scope=col>method</th><th scope=col>nsnp</th><th scope=col>b</th><th scope=col>se</th><th scope=col>pval</th><th scope=col>lo_ci</th><th scope=col>up_ci</th><th scope=col>or</th><th scope=col>or_lci95</th><th scope=col>or_uci95</th></tr>\n",
       "\t<tr><th scope=col>&lt;chr&gt;</th><th scope=col>&lt;chr&gt;</th><th scope=col>&lt;chr&gt;</th><th scope=col>&lt;chr&gt;</th><th scope=col>&lt;chr&gt;</th><th scope=col>&lt;int&gt;</th><th scope=col>&lt;dbl&gt;</th><th scope=col>&lt;dbl&gt;</th><th scope=col>&lt;dbl&gt;</th><th scope=col>&lt;dbl&gt;</th><th scope=col>&lt;dbl&gt;</th><th scope=col>&lt;dbl&gt;</th><th scope=col>&lt;dbl&gt;</th><th scope=col>&lt;dbl&gt;</th></tr>\n",
       "</thead>\n",
       "<tbody>\n",
       "\t<tr><td>LDL</td><td>CHD</td><td>CHD</td><td>LDL</td><td>Inverse variance weighted</td><td>1467</td><td>0.1756588</td><td>0.01614546</td><td>1.439282e-27</td><td>0.1440137</td><td>0.2073039</td><td>1.192031</td><td>1.154900</td><td>1.230356</td></tr>\n",
       "\t<tr><td>LDL</td><td>CHD</td><td>CHD</td><td>LDL</td><td>MR Egger                 </td><td>1467</td><td>0.2811012</td><td>0.02976176</td><td>1.349550e-20</td><td>0.2227682</td><td>0.3394343</td><td>1.324588</td><td>1.249531</td><td>1.404153</td></tr>\n",
       "\t<tr><td>LDL</td><td>CHD</td><td>CHD</td><td>LDL</td><td>Weighted median          </td><td>1467</td><td>0.1882435</td><td>0.02773526</td><td>1.143658e-11</td><td>0.1338824</td><td>0.2426046</td><td>1.207127</td><td>1.143258</td><td>1.274565</td></tr>\n",
       "</tbody>\n",
       "</table>\n"
      ],
      "text/latex": [
       "A data.frame: 3 × 14\n",
       "\\begin{tabular}{llllllllllllll}\n",
       " id.exposure & id.outcome & outcome & exposure & method & nsnp & b & se & pval & lo\\_ci & up\\_ci & or & or\\_lci95 & or\\_uci95\\\\\n",
       " <chr> & <chr> & <chr> & <chr> & <chr> & <int> & <dbl> & <dbl> & <dbl> & <dbl> & <dbl> & <dbl> & <dbl> & <dbl>\\\\\n",
       "\\hline\n",
       "\t LDL & CHD & CHD & LDL & Inverse variance weighted & 1467 & 0.1756588 & 0.01614546 & 1.439282e-27 & 0.1440137 & 0.2073039 & 1.192031 & 1.154900 & 1.230356\\\\\n",
       "\t LDL & CHD & CHD & LDL & MR Egger                  & 1467 & 0.2811012 & 0.02976176 & 1.349550e-20 & 0.2227682 & 0.3394343 & 1.324588 & 1.249531 & 1.404153\\\\\n",
       "\t LDL & CHD & CHD & LDL & Weighted median           & 1467 & 0.1882435 & 0.02773526 & 1.143658e-11 & 0.1338824 & 0.2426046 & 1.207127 & 1.143258 & 1.274565\\\\\n",
       "\\end{tabular}\n"
      ],
      "text/markdown": [
       "\n",
       "A data.frame: 3 × 14\n",
       "\n",
       "| id.exposure &lt;chr&gt; | id.outcome &lt;chr&gt; | outcome &lt;chr&gt; | exposure &lt;chr&gt; | method &lt;chr&gt; | nsnp &lt;int&gt; | b &lt;dbl&gt; | se &lt;dbl&gt; | pval &lt;dbl&gt; | lo_ci &lt;dbl&gt; | up_ci &lt;dbl&gt; | or &lt;dbl&gt; | or_lci95 &lt;dbl&gt; | or_uci95 &lt;dbl&gt; |\n",
       "|---|---|---|---|---|---|---|---|---|---|---|---|---|---|\n",
       "| LDL | CHD | CHD | LDL | Inverse variance weighted | 1467 | 0.1756588 | 0.01614546 | 1.439282e-27 | 0.1440137 | 0.2073039 | 1.192031 | 1.154900 | 1.230356 |\n",
       "| LDL | CHD | CHD | LDL | MR Egger                  | 1467 | 0.2811012 | 0.02976176 | 1.349550e-20 | 0.2227682 | 0.3394343 | 1.324588 | 1.249531 | 1.404153 |\n",
       "| LDL | CHD | CHD | LDL | Weighted median           | 1467 | 0.1882435 | 0.02773526 | 1.143658e-11 | 0.1338824 | 0.2426046 | 1.207127 | 1.143258 | 1.274565 |\n",
       "\n"
      ],
      "text/plain": [
       "  id.exposure id.outcome outcome exposure method                    nsnp\n",
       "1 LDL         CHD        CHD     LDL      Inverse variance weighted 1467\n",
       "2 LDL         CHD        CHD     LDL      MR Egger                  1467\n",
       "3 LDL         CHD        CHD     LDL      Weighted median           1467\n",
       "  b         se         pval         lo_ci     up_ci     or       or_lci95\n",
       "1 0.1756588 0.01614546 1.439282e-27 0.1440137 0.2073039 1.192031 1.154900\n",
       "2 0.2811012 0.02976176 1.349550e-20 0.2227682 0.3394343 1.324588 1.249531\n",
       "3 0.1882435 0.02773526 1.143658e-11 0.1338824 0.2426046 1.207127 1.143258\n",
       "  or_uci95\n",
       "1 1.230356\n",
       "2 1.404153\n",
       "3 1.274565"
      ]
     },
     "metadata": {},
     "output_type": "display_data"
    },
    {
     "data": {
      "image/png": "[encoded data removed]",
      "text/plain": [
       "plot without title"
      ]
     },
     "metadata": {
      "image/png": {
       "height": 420,
       "width": 420
      }
     },
     "output_type": "display_data"
    }
   ],
   "source": [
    "generate_odds_ratios(res1)\n",
    "p1 <- mr_scatter_plot(res1, harmonized_data_1)\n",
    "p1[[1]]"
   ]
  },
  {
   "cell_type": "markdown",
   "id": "1c7bd75d-5642-4650-8f46-8ebcfde80916",
   "metadata": {},
   "source": [
    "# MR from LDL to MI"
   ]
  },
  {
   "cell_type": "markdown",
   "id": "5f36f21e-c387-4a9a-af0f-896114aaa737",
   "metadata": {},
   "source": [
    "In this section we run MR to detect the association between LDL and MI.\n",
    "\n",
    "The MI data is downloaded from [here](https://gwas.mrcieu.ac.uk/datasets/ieu-a-798/)."
   ]
  },
  {
   "cell_type": "markdown",
   "id": "78978cf0-c4fd-48dc-aee9-4bc7fcdb6ab3",
   "metadata": {},
   "source": [
    "## Import the outcome data"
   ]
  },
  {
   "cell_type": "code",
   "execution_count": 17,
   "id": "c780e6e9-e687-4e51-82a7-7afdc792ae78",
   "metadata": {
    "tags": []
   },
   "outputs": [
    {
     "name": "stderr",
     "output_type": "stream",
     "text": [
      "Warning message:\n",
      "“\u001b[1m\u001b[22mThere was 1 warning in `mutate()`.\n",
      "\u001b[1m\u001b[22m\u001b[36mℹ\u001b[39m In argument: `AF = as.numeric(AF)`.\n",
      "Caused by warning:\n",
      "\u001b[33m!\u001b[39m NAs introduced by coercion”\n"
     ]
    }
   ],
   "source": [
    "# Specify the file path\n",
    "outcome_data_path_2 <- \"./ieu-a-798.vcf.gz\"\n",
    "\n",
    "# Load the VCF summary statistics\n",
    "outcome_data_formatted_2 <- load_vcf(outcome_data_path_2, col_name = \"ieu-a-798\")"
   ]
  },
  {
   "cell_type": "markdown",
   "id": "4ef255f2-5338-4d4c-baa4-6c6d16f8e54a",
   "metadata": {},
   "source": [
    "## Harmonize the data"
   ]
  },
  {
   "cell_type": "code",
   "execution_count": 18,
   "id": "ce028142-bfeb-4cec-9af9-705ed90ef1cc",
   "metadata": {
    "tags": []
   },
   "outputs": [],
   "source": [
    "# Outcome data formatting with correct column names for TwoSampleMR\n",
    "outcome_data_formatted_2 <- outcome_data_formatted_2 %>%\n",
    "    dplyr::mutate(pval.outcome = 10^(-LP), id.outcome = \"MI\", outcome = \"MI\") %>%\n",
    "    rename(CHROM = `#CHROM`) %>%\n",
    "    rename(\n",
    "        SNP = ID,\n",
    "        effect_allele.outcome = ALT, # Effect allele\n",
    "        other_allele.outcome = REF, # Other allele\n",
    "        beta.outcome = ES, # Effect size (ES)\n",
    "        se.outcome = SE,\n",
    "        eaf.outcome = AF2\n",
    "    )"
   ]
  },
  {
   "cell_type": "code",
   "execution_count": 19,
   "id": "e53d0f5c-4311-4d1c-8e0d-06b8db127d6d",
   "metadata": {
    "tags": []
   },
   "outputs": [
    {
     "name": "stderr",
     "output_type": "stream",
     "text": [
      "Harmonising LDL (LDL) and MI (MI)\n",
      "\n",
      "Removing the following SNPs for being palindromic with intermediate allele frequencies:\n",
      "rs12480689, rs2954029, rs360276, rs3845356, rs3927680, rs6550635, rs847812\n",
      "\n"
     ]
    }
   ],
   "source": [
    "# Harmonize the data\n",
    "harmonized_data_2 <- harmonise_data(exposure_data_formatted_selected_IV, outcome_data_formatted_2)"
   ]
  },
  {
   "cell_type": "code",
   "execution_count": 20,
   "id": "dab21e83-dd80-4aee-8e05-a83a2b2a5c0e",
   "metadata": {
    "tags": []
   },
   "outputs": [],
   "source": [
    "harmonized_data_2 <- harmonized_data_2 %>% filter(mr_keep = TRUE)"
   ]
  },
  {
   "cell_type": "markdown",
   "id": "16bf5098-6391-423f-af84-318d39f33ed3",
   "metadata": {
    "tags": []
   },
   "source": [
    "## Run MR analysis"
   ]
  },
  {
   "cell_type": "code",
   "execution_count": 21,
   "id": "4c96fba5-2198-4af8-b8c4-127e469b1452",
   "metadata": {
    "tags": []
   },
   "outputs": [
    {
     "name": "stderr",
     "output_type": "stream",
     "text": [
      "Analysing 'LDL' on 'MI'\n",
      "\n"
     ]
    }
   ],
   "source": [
    "res2 <- mr(harmonized_data_2, method_list=c(\"mr_ivw\", \"mr_egger_regression\", \"mr_weighted_median\"))"
   ]
  },
  {
   "cell_type": "code",
   "execution_count": 22,
   "id": "71a0770c-3e88-49c8-b717-e05f99c920e6",
   "metadata": {
    "tags": []
   },
   "outputs": [
    {
     "data": {
      "text/html": [
       "<table class=\"dataframe\">\n",
       "<caption>A data.frame: 3 × 14</caption>\n",
       "<thead>\n",
       "\t<tr><th scope=col>id.exposure</th><th scope=col>id.outcome</th><th scope=col>outcome</th><th scope=col>exposure</th><th scope=col>method</th><th scope=col>nsnp</th><th scope=col>b</th><th scope=col>se</th><th scope=col>pval</th><th scope=col>lo_ci</th><th scope=col>up_ci</th><th scope=col>or</th><th scope=col>or_lci95</th><th scope=col>or_uci95</th></tr>\n",
       "\t<tr><th scope=col>&lt;chr&gt;</th><th scope=col>&lt;chr&gt;</th><th scope=col>&lt;chr&gt;</th><th scope=col>&lt;chr&gt;</th><th scope=col>&lt;chr&gt;</th><th scope=col>&lt;int&gt;</th><th scope=col>&lt;dbl&gt;</th><th scope=col>&lt;dbl&gt;</th><th scope=col>&lt;dbl&gt;</th><th scope=col>&lt;dbl&gt;</th><th scope=col>&lt;dbl&gt;</th><th scope=col>&lt;dbl&gt;</th><th scope=col>&lt;dbl&gt;</th><th scope=col>&lt;dbl&gt;</th></tr>\n",
       "</thead>\n",
       "<tbody>\n",
       "\t<tr><td>LDL</td><td>MI</td><td>MI</td><td>LDL</td><td>Inverse variance weighted</td><td>1467</td><td>0.1601939</td><td>0.01737381</td><td>2.959207e-20</td><td>0.1261413</td><td>0.1942466</td><td>1.173738</td><td>1.134442</td><td>1.214396</td></tr>\n",
       "\t<tr><td>LDL</td><td>MI</td><td>MI</td><td>LDL</td><td>MR Egger                 </td><td>1467</td><td>0.2479894</td><td>0.03236030</td><td>3.276050e-14</td><td>0.1845633</td><td>0.3114156</td><td>1.281446</td><td>1.202693</td><td>1.365357</td></tr>\n",
       "\t<tr><td>LDL</td><td>MI</td><td>MI</td><td>LDL</td><td>Weighted median          </td><td>1467</td><td>0.1612875</td><td>0.02922717</td><td>3.420839e-08</td><td>0.1040022</td><td>0.2185727</td><td>1.175023</td><td>1.109603</td><td>1.244300</td></tr>\n",
       "</tbody>\n",
       "</table>\n"
      ],
      "text/latex": [
       "A data.frame: 3 × 14\n",
       "\\begin{tabular}{llllllllllllll}\n",
       " id.exposure & id.outcome & outcome & exposure & method & nsnp & b & se & pval & lo\\_ci & up\\_ci & or & or\\_lci95 & or\\_uci95\\\\\n",
       " <chr> & <chr> & <chr> & <chr> & <chr> & <int> & <dbl> & <dbl> & <dbl> & <dbl> & <dbl> & <dbl> & <dbl> & <dbl>\\\\\n",
       "\\hline\n",
       "\t LDL & MI & MI & LDL & Inverse variance weighted & 1467 & 0.1601939 & 0.01737381 & 2.959207e-20 & 0.1261413 & 0.1942466 & 1.173738 & 1.134442 & 1.214396\\\\\n",
       "\t LDL & MI & MI & LDL & MR Egger                  & 1467 & 0.2479894 & 0.03236030 & 3.276050e-14 & 0.1845633 & 0.3114156 & 1.281446 & 1.202693 & 1.365357\\\\\n",
       "\t LDL & MI & MI & LDL & Weighted median           & 1467 & 0.1612875 & 0.02922717 & 3.420839e-08 & 0.1040022 & 0.2185727 & 1.175023 & 1.109603 & 1.244300\\\\\n",
       "\\end{tabular}\n"
      ],
      "text/markdown": [
       "\n",
       "A data.frame: 3 × 14\n",
       "\n",
       "| id.exposure &lt;chr&gt; | id.outcome &lt;chr&gt; | outcome &lt;chr&gt; | exposure &lt;chr&gt; | method &lt;chr&gt; | nsnp &lt;int&gt; | b &lt;dbl&gt; | se &lt;dbl&gt; | pval &lt;dbl&gt; | lo_ci &lt;dbl&gt; | up_ci &lt;dbl&gt; | or &lt;dbl&gt; | or_lci95 &lt;dbl&gt; | or_uci95 &lt;dbl&gt; |\n",
       "|---|---|---|---|---|---|---|---|---|---|---|---|---|---|\n",
       "| LDL | MI | MI | LDL | Inverse variance weighted | 1467 | 0.1601939 | 0.01737381 | 2.959207e-20 | 0.1261413 | 0.1942466 | 1.173738 | 1.134442 | 1.214396 |\n",
       "| LDL | MI | MI | LDL | MR Egger                  | 1467 | 0.2479894 | 0.03236030 | 3.276050e-14 | 0.1845633 | 0.3114156 | 1.281446 | 1.202693 | 1.365357 |\n",
       "| LDL | MI | MI | LDL | Weighted median           | 1467 | 0.1612875 | 0.02922717 | 3.420839e-08 | 0.1040022 | 0.2185727 | 1.175023 | 1.109603 | 1.244300 |\n",
       "\n"
      ],
      "text/plain": [
       "  id.exposure id.outcome outcome exposure method                    nsnp\n",
       "1 LDL         MI         MI      LDL      Inverse variance weighted 1467\n",
       "2 LDL         MI         MI      LDL      MR Egger                  1467\n",
       "3 LDL         MI         MI      LDL      Weighted median           1467\n",
       "  b         se         pval         lo_ci     up_ci     or       or_lci95\n",
       "1 0.1601939 0.01737381 2.959207e-20 0.1261413 0.1942466 1.173738 1.134442\n",
       "2 0.2479894 0.03236030 3.276050e-14 0.1845633 0.3114156 1.281446 1.202693\n",
       "3 0.1612875 0.02922717 3.420839e-08 0.1040022 0.2185727 1.175023 1.109603\n",
       "  or_uci95\n",
       "1 1.214396\n",
       "2 1.365357\n",
       "3 1.244300"
      ]
     },
     "metadata": {},
     "output_type": "display_data"
    },
    {
     "data": {
      "image/png": "[encoded data removed]",
      "text/plain": [
       "plot without title"
      ]
     },
     "metadata": {
      "image/png": {
       "height": 420,
       "width": 420
      }
     },
     "output_type": "display_data"
    }
   ],
   "source": [
    "generate_odds_ratios(res2)\n",
    "p2 <- mr_scatter_plot(res2, harmonized_data_2)\n",
    "p2[[1]]"
   ]
  },
  {
   "cell_type": "markdown",
   "id": "bebfe7e5-6a0f-43e5-b6ea-d36a86775ddc",
   "metadata": {},
   "source": [
    "## Sensitivity analysis"
   ]
  },
  {
   "cell_type": "code",
   "execution_count": 23,
   "id": "b663de3c-0d45-4cf2-aff7-42af5f5a7f19",
   "metadata": {
    "tags": []
   },
   "outputs": [
    {
     "data": {
      "text/html": [
       "<table class=\"dataframe\">\n",
       "<caption>A data.frame: 2 × 8</caption>\n",
       "<thead>\n",
       "\t<tr><th scope=col>id.exposure</th><th scope=col>id.outcome</th><th scope=col>outcome</th><th scope=col>exposure</th><th scope=col>method</th><th scope=col>Q</th><th scope=col>Q_df</th><th scope=col>Q_pval</th></tr>\n",
       "\t<tr><th scope=col>&lt;chr&gt;</th><th scope=col>&lt;chr&gt;</th><th scope=col>&lt;chr&gt;</th><th scope=col>&lt;chr&gt;</th><th scope=col>&lt;chr&gt;</th><th scope=col>&lt;dbl&gt;</th><th scope=col>&lt;dbl&gt;</th><th scope=col>&lt;dbl&gt;</th></tr>\n",
       "</thead>\n",
       "<tbody>\n",
       "\t<tr><td>LDL</td><td>MI</td><td>MI</td><td>LDL</td><td>MR Egger                 </td><td>2049.632</td><td>1465</td><td>2.73920e-22</td></tr>\n",
       "\t<tr><td>LDL</td><td>MI</td><td>MI</td><td>LDL</td><td>Inverse variance weighted</td><td>2064.064</td><td>1466</td><td>3.98777e-23</td></tr>\n",
       "</tbody>\n",
       "</table>\n"
      ],
      "text/latex": [
       "A data.frame: 2 × 8\n",
       "\\begin{tabular}{llllllll}\n",
       " id.exposure & id.outcome & outcome & exposure & method & Q & Q\\_df & Q\\_pval\\\\\n",
       " <chr> & <chr> & <chr> & <chr> & <chr> & <dbl> & <dbl> & <dbl>\\\\\n",
       "\\hline\n",
       "\t LDL & MI & MI & LDL & MR Egger                  & 2049.632 & 1465 & 2.73920e-22\\\\\n",
       "\t LDL & MI & MI & LDL & Inverse variance weighted & 2064.064 & 1466 & 3.98777e-23\\\\\n",
       "\\end{tabular}\n"
      ],
      "text/markdown": [
       "\n",
       "A data.frame: 2 × 8\n",
       "\n",
       "| id.exposure &lt;chr&gt; | id.outcome &lt;chr&gt; | outcome &lt;chr&gt; | exposure &lt;chr&gt; | method &lt;chr&gt; | Q &lt;dbl&gt; | Q_df &lt;dbl&gt; | Q_pval &lt;dbl&gt; |\n",
       "|---|---|---|---|---|---|---|---|\n",
       "| LDL | MI | MI | LDL | MR Egger                  | 2049.632 | 1465 | 2.73920e-22 |\n",
       "| LDL | MI | MI | LDL | Inverse variance weighted | 2064.064 | 1466 | 3.98777e-23 |\n",
       "\n"
      ],
      "text/plain": [
       "  id.exposure id.outcome outcome exposure method                    Q       \n",
       "1 LDL         MI         MI      LDL      MR Egger                  2049.632\n",
       "2 LDL         MI         MI      LDL      Inverse variance weighted 2064.064\n",
       "  Q_df Q_pval     \n",
       "1 1465 2.73920e-22\n",
       "2 1466 3.98777e-23"
      ]
     },
     "metadata": {},
     "output_type": "display_data"
    },
    {
     "data": {
      "text/html": [
       "<table class=\"dataframe\">\n",
       "<caption>A data.frame: 1 × 7</caption>\n",
       "<thead>\n",
       "\t<tr><th scope=col>id.exposure</th><th scope=col>id.outcome</th><th scope=col>outcome</th><th scope=col>exposure</th><th scope=col>egger_intercept</th><th scope=col>se</th><th scope=col>pval</th></tr>\n",
       "\t<tr><th scope=col>&lt;chr&gt;</th><th scope=col>&lt;chr&gt;</th><th scope=col>&lt;chr&gt;</th><th scope=col>&lt;chr&gt;</th><th scope=col>&lt;dbl&gt;</th><th scope=col>&lt;dbl&gt;</th><th scope=col>&lt;dbl&gt;</th></tr>\n",
       "</thead>\n",
       "<tbody>\n",
       "\t<tr><td>LDL</td><td>MI</td><td>MI</td><td>LDL</td><td>-0.002522809</td><td>0.0007854957</td><td>0.001347985</td></tr>\n",
       "</tbody>\n",
       "</table>\n"
      ],
      "text/latex": [
       "A data.frame: 1 × 7\n",
       "\\begin{tabular}{lllllll}\n",
       " id.exposure & id.outcome & outcome & exposure & egger\\_intercept & se & pval\\\\\n",
       " <chr> & <chr> & <chr> & <chr> & <dbl> & <dbl> & <dbl>\\\\\n",
       "\\hline\n",
       "\t LDL & MI & MI & LDL & -0.002522809 & 0.0007854957 & 0.001347985\\\\\n",
       "\\end{tabular}\n"
      ],
      "text/markdown": [
       "\n",
       "A data.frame: 1 × 7\n",
       "\n",
       "| id.exposure &lt;chr&gt; | id.outcome &lt;chr&gt; | outcome &lt;chr&gt; | exposure &lt;chr&gt; | egger_intercept &lt;dbl&gt; | se &lt;dbl&gt; | pval &lt;dbl&gt; |\n",
       "|---|---|---|---|---|---|---|\n",
       "| LDL | MI | MI | LDL | -0.002522809 | 0.0007854957 | 0.001347985 |\n",
       "\n"
      ],
      "text/plain": [
       "  id.exposure id.outcome outcome exposure egger_intercept se          \n",
       "1 LDL         MI         MI      LDL      -0.002522809    0.0007854957\n",
       "  pval       \n",
       "1 0.001347985"
      ]
     },
     "metadata": {},
     "output_type": "display_data"
    }
   ],
   "source": [
    "mr_heterogeneity(harmonized_data_2) # Test for heterogeneity\n",
    "mr_pleiotropy_test(harmonized_data_2) # Test for pleiotropy"
   ]
  },
  {
   "cell_type": "code",
   "execution_count": null,
   "id": "45c53930-f785-4f87-9211-b185c2ddb2cb",
   "metadata": {},
   "outputs": [],
   "source": []
  }
 ],
 "metadata": {
  "kernelspec": {
   "display_name": "R",
   "language": "R",
   "name": "ir"
  },
  "language_info": {
   "codemirror_mode": "r",
   "file_extension": ".r",
   "mimetype": "text/x-r-source",
   "name": "R",
   "pygments_lexer": "r",
   "version": "4.4.2"
  },
  "toc-autonumbering": true
 },
 "nbformat": 4,
 "nbformat_minor": 5
}
