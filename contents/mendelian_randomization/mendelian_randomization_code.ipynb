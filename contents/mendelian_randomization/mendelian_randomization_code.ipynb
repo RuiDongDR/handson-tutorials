{
    "cells": [
     {
      "cell_type": "code",
      "execution_count": 1,
      "id": "3358af6f-3383-4f6f-8308-4bd97960a588",
      "metadata": {},
      "outputs": [
       {
        "name": "stderr",
        "output_type": "stream",
        "text": [
         "TwoSampleMR version 0.5.6 \n",
         "[>] New: Option to use non-European LD reference panels for clumping etc\n",
         "[>] Some studies temporarily quarantined to verify effect allele\n",
         "[>] See news(package='TwoSampleMR') and https://gwas.mrcieu.ac.uk for further details\n",
         "\n",
         "\n",
         "\n",
         "Warning:\n",
         "You are running an old version of the TwoSampleMR package.\n",
         "This version:   0.5.6\n",
         "Latest version: 0.6.8\n",
         "Please consider updating using remotes::install_github('MRCIEU/TwoSampleMR')\n",
         "\n",
         "\n",
         "Attaching package: 'MendelianRandomization'\n",
         "\n",
         "\n",
         "The following objects are masked from 'package:TwoSampleMR':\n",
         "\n",
         "    mr_ivw, mr_median\n",
         "\n",
         "\n"
        ]
       }
      ],
      "source": [
       "library(TwoSampleMR)\n",
       "library(MendelianRandomization)\n",
       "library(ggplot2)\n",
       "library(data.table)\n",
       "library(MRInstruments) "
      ]
     },
     {
      "cell_type": "markdown",
      "id": "0db134f6-dbbc-4e32-ad76-bcaeb378c7ed",
      "metadata": {},
      "source": [
       "### Part I.1"
      ]
     },
     {
      "cell_type": "code",
      "execution_count": 2,
      "id": "6c363e50-d925-47a2-bd48-98b2c05595b2",
      "metadata": {},
      "outputs": [
       {
        "ename": "ERROR",
        "evalue": "Error in ieugwasr::tophits(outcomes, pval = p1, clump = clump, r2 = r2, : unused argument (access_token = access_token)\n",
        "output_type": "error",
        "traceback": [
         "Error in ieugwasr::tophits(outcomes, pval = p1, clump = clump, r2 = r2, : unused argument (access_token = access_token)\nTraceback:\n",
         "1. .handleSimpleError(function (cnd) \n . {\n .     watcher$capture_plot_and_output()\n .     cnd <- sanitize_call(cnd)\n .     watcher$push(cnd)\n .     switch(on_error, continue = invokeRestart(\"eval_continue\"), \n .         stop = invokeRestart(\"eval_stop\"), error = NULL)\n . }, \"unused argument (access_token = access_token)\", base::quote(ieugwasr::tophits(outcomes, \n .     pval = p1, clump = clump, r2 = r2, kb = kb, force_server = FALSE, \n .     access_token = access_token)))"
        ]
       }
      ],
      "source": [
       "##Exposure data: IEU GWAS ID ieu-a-300##\n",
       "exp_dat1 <- extract_instruments(outcomes = 'ieu-a-300')\n",
       "exp_dat1 <- clump_data(exp_dat1)\n",
       "\n",
       "##Load OUTCOME data ####\n",
       "###extracting outcome data\n",
       "outcome_dat1 <- extract_outcome_data(snps=exp_dat1$SNP, outcomes='ieu-a-7', proxies = 1, rsq = 0.8, align_alleles = 1, palindromes = 1, maf_threshold = 0.3)\n",
       "outcome_dat1$outcome <- \"CHD\"\n",
       "dat1 <- harmonise_data(exp_dat1, outcome_dat1, action = 2)"
      ]
     },
     {
      "cell_type": "code",
      "execution_count": null,
      "id": "1fd5f1e2-3a01-4e82-822b-f792a48232b4",
      "metadata": {},
      "outputs": [],
      "source": [
       "####MR ANALYSIS####\n",
       "res1 <- mr(dat1, method_list=c(\"mr_ivw\", \"mr_egger_regression\", \"mr_weighted_median\"))\n",
       "generate_odds_ratios(res1)\n",
       "p1 <- mr_scatter_plot(res1, dat1)\n",
       "p1[[1]]\n",
       "\n",
       "res_single1 <- mr_singlesnp(dat1, all_method = c(\"mr_ivw\", \"mr_egger_regression\",\"mr_weighted_median\"))\n",
       "p2 <- mr_forest_plot(res_single1)\n",
       "p2[[1]]"
      ]
     },
     {
      "cell_type": "code",
      "execution_count": null,
      "id": "ac26b60e-9696-4d32-b868-2b7e7f6441d4",
      "metadata": {},
      "outputs": [],
      "source": [
       "###SENSITIVITY ANALYSIS\n",
       "mr_heterogeneity(dat1) # Test for heterogeneity\n",
       "mr_pleiotropy_test(dat1) # Test for pleiotropy"
      ]
     },
     {
      "cell_type": "markdown",
      "id": "5de6e251-a645-4036-bd6f-afd56d63e420",
      "metadata": {},
      "source": [
       "### Part 1.2"
      ]
     },
     {
      "cell_type": "code",
      "execution_count": null,
      "id": "71dd079b-3ced-4842-8aa2-8c7905fb839a",
      "metadata": {},
      "outputs": [],
      "source": [
       "################RE-RUN the analysis with MI as the outcome############\n",
       "#### MI outcome dataset is \"ieu-a-798\"#######\n",
       "####Same analysis as above except for extracting the instruments from the new outcome dataset#####\n",
       "\n",
       "##Exposure data: IEU GWAS ID ieu-a-300##\n",
       "exp_dat2 <- extract_instruments(outcomes = 'ieu-a-300')\n",
       "exp_dat2 <- clump_data(exp_dat2)\n",
       "\n",
       "##Load OUTCOME data ####\n",
       "###extracting outcome data\n",
       "outcome_dat2 <- extract_outcome_data(snps=exp_dat2$SNP, outcomes='ieu-a-798', proxies = 1, rsq = 0.8, align_alleles = 1, palindromes = 1, maf_threshold = 0.3)\n",
       "outcome_dat2$outcome <- \"MI\"\n",
       "dat2 <- harmonise_data(exp_dat2, outcome_dat2, action = 2)\n",
       "\n",
       "####MR ANALYSIS####\n",
       "res2 <- mr(dat2, method_list=c(\"mr_ivw\", \"mr_egger_regression\", \"mr_weighted_median\"))\n",
       "generate_odds_ratios(res2)\n",
       "p3 <- mr_scatter_plot(res2, dat2)\n",
       "p3[[1]]\n",
       "\n",
       "res_single2 <- mr_singlesnp(dat2, all_method = c(\"mr_ivw\", \"mr_egger_regression\",\"mr_weighted_median\"))\n",
       "p4 <- mr_forest_plot(res_single2)\n",
       "p4[[1]]\n",
       "\n",
       "###SENSITIVITY ANALYSIS\n",
       "mr_heterogeneity(dat2) # Test for heterogeneity\n",
       "mr_pleiotropy_test(dat2) # Test for pleiotropy"
      ]
     },
     {
      "cell_type": "markdown",
      "id": "a088f0a6-3326-41e4-927c-437bbbc6bfa1",
      "metadata": {},
      "source": [
       "### Part II"
      ]
     },
     {
      "cell_type": "code",
      "execution_count": null,
      "id": "00d23f4f-fba8-4ee8-9494-3cbe6c0fe824",
      "metadata": {},
      "outputs": [],
      "source": [
       "###Import exposure data for all exposures:\n",
       "\n",
       "data(metab_qtls)\n",
       "\n",
       "# Define a vector containing the 16 phenotypes\n",
       "selected_phenotypes <- c(\"LDL.C\", \"LDL.D\", \"S.LDL.C\", \"S.LDL.L\", \"S.LDL.P\", \n",
       "                         \"M.LDL.C\", \"M.LDL.CE\", \"M.LDL.L\", \"M.LDL.P\", \"M.LDL.PL\", \n",
       "                         \"L.LDL.C\", \"L.LDL.CE\", \"L.LDL.FC\", \"L.LDL.L\", \"L.LDL.P\", \"L.LDL.PL\")\n",
       "\n",
       "# Subset the data \n",
       "metab_exp_dat <- subset(metab_qtls, phenotype %in% selected_phenotypes)\n",
       "metab_exp_dat <- format_metab_qtls (metab_exp_dat)\n",
       "metab_exp_dat <- clump_data(metab_exp_dat)\n",
       "\n",
       "#Outcome data is CHD\n",
       "outcome_dat3 <- extract_outcome_data(snps=metab_exp_dat$SNP, outcomes='ieu-a-7', proxies = 1, rsq = 0.8, align_alleles = 1, palindromes = 1, maf_threshold = 0.3)\n",
       "outcome_dat3$outcome <- \"CHD\"\n",
       "\n",
       "##HARMONIZE\n",
       "dat3 <- harmonise_data(metab_exp_dat, outcome_dat3, action = 2)\n"
      ]
     },
     {
      "cell_type": "code",
      "execution_count": null,
      "id": "e7f1a0f0-be87-4eaa-81c2-8f2326db9335",
      "metadata": {},
      "outputs": [],
      "source": [
       "####MR ANALYSIS####\n",
       "res3 <- mr(dat3, method_list=c(\"mr_ivw\"))\n",
       "generate_odds_ratios(res3)\n",
       "p5 <- mr_scatter_plot(res3, dat3)\n",
       "p5[1:16]\n",
       "\n",
       "res_single3 <- mr_singlesnp(dat3, all_method = c(\"mr_ivw\"))\n",
       "p6 <- mr_forest_plot(res_single3)\n",
       "p6[1:16]\n",
       "\n",
       "###SENSITIVITY ANALYSIS\n",
       "mr_heterogeneity(dat3) # Test for heterogeneity\n",
       "mr_pleiotropy_test(dat3) # Test for pleiotropy"
      ]
     },
     {
      "cell_type": "code",
      "execution_count": null,
      "id": "54290b3f-9f39-43dc-bc90-48a18a934b94",
      "metadata": {},
      "outputs": [],
      "source": [
       "### Part III"
      ]
     },
     {
      "cell_type": "code",
      "execution_count": null,
      "id": "22797014-771e-4828-a0ee-e4b1386d27af",
      "metadata": {},
      "outputs": [],
      "source": [
       "###Import exposure data for all exposures:\n",
       "\n",
       "data(metab_qtls)\n",
       "\n",
       "# Define a vector containing the 33 phenotypes\n",
       "selected_phenotypes <- c(\"L.VLDL.CE\", \"L.VLDL.C\", \"L.VLDL.FC\", \"L.VLDL.L\", \"L.VLDL.PL\", \"L.VLDL.P\", \"L.VLDL.TG\", \n",
       "                         \"M.VLDL.CE\", \"M.VLDL.C\", \"M.VLDL.FC\", \"M.VLDL.L\", \"M.VLDL.PL\", \"M.VLDL.P\", \"M.VLDL.TG\",\n",
       "                         \"S.VLDL.C\", \"S.VLDL.FC\", \"S.VLDL.L\", \"S.VLDL.PL\", \"S.VLDL.P\", \"S.VLDL.TG\", \"VLDL.D\",\n",
       "                         \"XL.VLDL.L\", \"XL.VLDL.PL\", \"XL.VLDL.P\", \"XL.VLDL.TG\", \"XS.VLDL.L\", \"XS.VLDL.PL\", \"XS.VLDL.P\", \n",
       "                         \"XS.VLDL.TG\", \"XXL.VLDL.L\", \"XXL.VLDL.PL\", \"XXL.VLDL.P\", \"XXL.VLDL.TG\")\n",
       "\n",
       "# Subset the data \n",
       "metab_exp_datVLDL <- subset(metab_qtls, phenotype %in% selected_phenotypes)\n",
       "metab_exp_datVLDL <- format_metab_qtls (metab_exp_datVLDL)\n",
       "metab_exp_datVLDL <- clump_data(metab_exp_datVLDL)\n",
       "\n",
       "#Outcome data is CHD\n",
       "outcome_dat4 <- extract_outcome_data(snps=metab_exp_datVLDL$SNP, outcomes='ieu-a-7', proxies = 1, rsq = 0.8, align_alleles = 1, palindromes = 1, maf_threshold = 0.3)\n",
       "outcome_dat4$outcome <- \"CHD\"\n",
       "\n",
       "##HARMONIZE\n",
       "dat4 <- harmonise_data(metab_exp_datVLDL, outcome_dat4, action = 2)"
      ]
     },
     {
      "cell_type": "code",
      "execution_count": null,
      "id": "fcd23adb-7f57-4748-90e3-c395a6df3344",
      "metadata": {},
      "outputs": [],
      "source": [
       "####MR ANALYSIS####\n",
       "\n",
       "res4 <- mr(dat4, method_list=c(\"mr_ivw\"))\n",
       "generate_odds_ratios(res4)\n",
       "p7 <- mr_scatter_plot(res4, dat4)\n",
       "p7[1:33] \n",
       "\n",
       "res_single4 <- mr_singlesnp(dat4, all_method = c(\"mr_ivw\"))\n",
       "p8 <- mr_forest_plot(res_single4)\n",
       "p8[1:33]\n",
       "\n",
       "\n",
       "###SENSITIVITY ANALYSIS\n",
       "mr_heterogeneity(dat4) # Test for heterogeneity\n",
       "mr_pleiotropy_test(dat4) # Test for pleiotropy"
      ]
     },
     {
      "cell_type": "code",
      "execution_count": null,
      "id": "7582293e-6295-480d-a4c1-2a62f33d8e02",
      "metadata": {},
      "outputs": [],
      "source": []
     }
    ],
    "metadata": {
     "kernelspec": {
      "display_name": "R",
      "language": "R",
      "name": "ir"
     },
     "language_info": {
      "codemirror_mode": "r",
      "file_extension": ".r",
      "mimetype": "text/x-r-source",
      "name": "R",
      "pygments_lexer": "r",
      "version": "4.3.3"
     }
    },
    "nbformat": 4,
    "nbformat_minor": 5
   }
   