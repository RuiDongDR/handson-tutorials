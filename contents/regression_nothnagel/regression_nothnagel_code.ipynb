{
 "cells": [
  {
   "cell_type": "code",
   "execution_count": null,
   "id": "a3009f0f-0638-498b-953a-0c0d264e1cf6",
   "metadata": {
    "kernel": "Bash"
   },
   "outputs": [],
   "source": [
    "# I. Logistic regression on a single SNP under an allelic model\n",
    "plink --ped ./data/dbp.cc.ped --map ./data/dbp.map --map3 --out logreg.add  --logistic --noweb\n",
    "cat logreg.add.assoc.logistic\n",
    "\n",
    "plink --ped ./data/dbp.cc.ped --map ./data/dbp.map --map3 --out logreg.add.ci  --logistic  --ci 0.95  --noweb\n",
    "cat logreg.add.ci.assoc.logistic"
   ]
  },
  {
   "cell_type": "code",
   "execution_count": null,
   "id": "42de5f44-9c1b-4fbf-b6be-e97d862a87ae",
   "metadata": {
    "kernel": "Bash"
   },
   "outputs": [],
   "source": [
    "pwd"
   ]
  },
  {
   "cell_type": "code",
   "execution_count": null,
   "id": "479d430b-fca9-42d7-ae70-5e00c2a8289a",
   "metadata": {
    "kernel": "Bash"
   },
   "outputs": [],
   "source": [
    "# II. Adjustment for the effects of covariates and of other SNPs\n",
    "plink --ped dbp.cc.ped --map dbp.map --map3 --out logreg.age.add  --logistic  --covar dbp.age.pheno  --noweb\n",
    "cat logreg.age.add.assoc.logistic\n",
    "\n",
    "plink --ped dbp.cc.ped --map dbp.map --map3 --out logreg.sex.add  --logistic --sex  --noweb\n",
    "cat logreg.sex.add.assoc.logistic\n",
    "\n",
    "plink --ped dbp.cc.ped --map dbp.map --map3 --out logreg.sexage.add  --logistic --sex  --covar dbp.age.pheno  --noweb\n",
    "cat logreg.sexage.add.assoc.logistic\n",
    "\n",
    "plink --ped dbp.cc.ped --map dbp.map --map3 --out logreg.snp1112.add  --logistic  --condition rs1112  --noweb\n",
    "cat logreg.snp1112.add.assoc.logistic\n",
    "\n",
    "plink --ped dbp.cc.ped --map dbp.map --map3 --out logreg.snp1117.add  --logistic  --condition rs1117\n",
    "cat logreg.snp1117.add.assoc.logistic"
   ]
  },
  {
   "cell_type": "code",
   "execution_count": null,
   "id": "c62e8d14-097d-45ec-bf76-43293fefd6c2",
   "metadata": {
    "kernel": "Bash"
   },
   "outputs": [],
   "source": [
    "# III. Analysis of quantitative instead of dichotomized trait\n",
    "plink --ped dbp.qt.ped --map dbp.map --map3 --out linreg.sex.add  --linear   --sex  --noweb\n",
    "cat linreg.sex.add.assoc.linear"
   ]
  },
  {
   "cell_type": "code",
   "execution_count": null,
   "id": "593cb0eb-2bf8-4465-886a-2ba68a6c7ceb",
   "metadata": {
    "kernel": "Bash"
   },
   "outputs": [],
   "source": [
    "# IV. Gene-environment (GxE) and gene-gene (GxG) interaction\n",
    "plink --ped dbp.cc.ped --map dbp.map --map3 --out logreg.sex.inter.add  --logistic  --sex  --interaction  --noweb\n",
    "cat logreg.sex.inter.add.assoc.logistic\n",
    "\n",
    "plink --ped dbp.cc.ped --map dbp.map --map3 --out logreg.snp1112.inter.add  --logistic  --condition rs1112  --interaction  --noweb\n",
    "cat logreg.snp1112.inter.add.assoc.logistic"
   ]
  },
  {
   "cell_type": "code",
   "execution_count": 3,
   "id": "171be2b3-38d7-486c-b4db-10a71118a07e",
   "metadata": {
    "kernel": "R"
   },
   "outputs": [
    {
     "data": {
      "text/html": [
       "'dbp'"
      ],
      "text/latex": [
       "'dbp'"
      ],
      "text/markdown": [
       "'dbp'"
      ],
      "text/plain": [
       "[1] \"dbp\""
      ]
     },
     "metadata": {},
     "output_type": "display_data"
    },
    {
     "data": {
      "text/html": [
       "<table class=\"dataframe\">\n",
       "<caption>A data.frame: 5 × 28</caption>\n",
       "<thead>\n",
       "\t<tr><th></th><th scope=col>fam</th><th scope=col>pid</th><th scope=col>fid</th><th scope=col>mid</th><th scope=col>sex</th><th scope=col>trait</th><th scope=col>affection</th><th scope=col>age</th><th scope=col>rs1101</th><th scope=col>rs1102</th><th scope=col>⋯</th><th scope=col>rs1111</th><th scope=col>rs1112</th><th scope=col>rs1113</th><th scope=col>rs1114</th><th scope=col>rs1115</th><th scope=col>rs1116</th><th scope=col>rs1117</th><th scope=col>rs1118</th><th scope=col>rs1119</th><th scope=col>rs1120</th></tr>\n",
       "\t<tr><th></th><th scope=col>&lt;int&gt;</th><th scope=col>&lt;int&gt;</th><th scope=col>&lt;int&gt;</th><th scope=col>&lt;int&gt;</th><th scope=col>&lt;fct&gt;</th><th scope=col>&lt;dbl&gt;</th><th scope=col>&lt;fct&gt;</th><th scope=col>&lt;int&gt;</th><th scope=col>&lt;fct&gt;</th><th scope=col>&lt;fct&gt;</th><th scope=col>⋯</th><th scope=col>&lt;fct&gt;</th><th scope=col>&lt;fct&gt;</th><th scope=col>&lt;fct&gt;</th><th scope=col>&lt;fct&gt;</th><th scope=col>&lt;fct&gt;</th><th scope=col>&lt;fct&gt;</th><th scope=col>&lt;fct&gt;</th><th scope=col>&lt;fct&gt;</th><th scope=col>&lt;fct&gt;</th><th scope=col>&lt;fct&gt;</th></tr>\n",
       "</thead>\n",
       "<tbody>\n",
       "\t<tr><th scope=row>4928</th><td>4928</td><td>1</td><td>0</td><td>0</td><td>1</td><td>85.51</td><td>1</td><td>66</td><td>4</td><td>2</td><td>⋯</td><td>3</td><td>3</td><td>3</td><td>3</td><td>3</td><td>4</td><td>2</td><td>3</td><td>3</td><td>3</td></tr>\n",
       "\t<tr><th scope=row>1838</th><td>1838</td><td>1</td><td>0</td><td>0</td><td>1</td><td>84.51</td><td>1</td><td>67</td><td>2</td><td>2</td><td>⋯</td><td>4</td><td>2</td><td>2</td><td>4</td><td>4</td><td>4</td><td>2</td><td>2</td><td>4</td><td>4</td></tr>\n",
       "\t<tr><th scope=row>2450</th><td>2450</td><td>1</td><td>0</td><td>0</td><td>1</td><td>84.30</td><td>1</td><td>89</td><td>2</td><td>2</td><td>⋯</td><td>4</td><td>3</td><td>3</td><td>4</td><td>3</td><td>4</td><td>2</td><td>3</td><td>3</td><td>3</td></tr>\n",
       "\t<tr><th scope=row>647</th><td> 647</td><td>1</td><td>0</td><td>0</td><td>2</td><td>89.14</td><td>1</td><td>36</td><td>4</td><td>4</td><td>⋯</td><td>2</td><td>3</td><td>3</td><td>2</td><td>3</td><td>4</td><td>3</td><td>3</td><td>4</td><td>3</td></tr>\n",
       "\t<tr><th scope=row>2772</th><td>2772</td><td>1</td><td>0</td><td>0</td><td>1</td><td>90.39</td><td>1</td><td>54</td><td>3</td><td>2</td><td>⋯</td><td>2</td><td>2</td><td>2</td><td>2</td><td>4</td><td>4</td><td>2</td><td>2</td><td>4</td><td>4</td></tr>\n",
       "</tbody>\n",
       "</table>\n"
      ],
      "text/latex": [
       "A data.frame: 5 × 28\n",
       "\\begin{tabular}{r|lllllllllllllllllllll}\n",
       "  & fam & pid & fid & mid & sex & trait & affection & age & rs1101 & rs1102 & ⋯ & rs1111 & rs1112 & rs1113 & rs1114 & rs1115 & rs1116 & rs1117 & rs1118 & rs1119 & rs1120\\\\\n",
       "  & <int> & <int> & <int> & <int> & <fct> & <dbl> & <fct> & <int> & <fct> & <fct> & ⋯ & <fct> & <fct> & <fct> & <fct> & <fct> & <fct> & <fct> & <fct> & <fct> & <fct>\\\\\n",
       "\\hline\n",
       "\t4928 & 4928 & 1 & 0 & 0 & 1 & 85.51 & 1 & 66 & 4 & 2 & ⋯ & 3 & 3 & 3 & 3 & 3 & 4 & 2 & 3 & 3 & 3\\\\\n",
       "\t1838 & 1838 & 1 & 0 & 0 & 1 & 84.51 & 1 & 67 & 2 & 2 & ⋯ & 4 & 2 & 2 & 4 & 4 & 4 & 2 & 2 & 4 & 4\\\\\n",
       "\t2450 & 2450 & 1 & 0 & 0 & 1 & 84.30 & 1 & 89 & 2 & 2 & ⋯ & 4 & 3 & 3 & 4 & 3 & 4 & 2 & 3 & 3 & 3\\\\\n",
       "\t647 &  647 & 1 & 0 & 0 & 2 & 89.14 & 1 & 36 & 4 & 4 & ⋯ & 2 & 3 & 3 & 2 & 3 & 4 & 3 & 3 & 4 & 3\\\\\n",
       "\t2772 & 2772 & 1 & 0 & 0 & 1 & 90.39 & 1 & 54 & 3 & 2 & ⋯ & 2 & 2 & 2 & 2 & 4 & 4 & 2 & 2 & 4 & 4\\\\\n",
       "\\end{tabular}\n"
      ],
      "text/markdown": [
       "\n",
       "A data.frame: 5 × 28\n",
       "\n",
       "| <!--/--> | fam &lt;int&gt; | pid &lt;int&gt; | fid &lt;int&gt; | mid &lt;int&gt; | sex &lt;fct&gt; | trait &lt;dbl&gt; | affection &lt;fct&gt; | age &lt;int&gt; | rs1101 &lt;fct&gt; | rs1102 &lt;fct&gt; | ⋯ ⋯ | rs1111 &lt;fct&gt; | rs1112 &lt;fct&gt; | rs1113 &lt;fct&gt; | rs1114 &lt;fct&gt; | rs1115 &lt;fct&gt; | rs1116 &lt;fct&gt; | rs1117 &lt;fct&gt; | rs1118 &lt;fct&gt; | rs1119 &lt;fct&gt; | rs1120 &lt;fct&gt; |\n",
       "|---|---|---|---|---|---|---|---|---|---|---|---|---|---|---|---|---|---|---|---|---|---|\n",
       "| 4928 | 4928 | 1 | 0 | 0 | 1 | 85.51 | 1 | 66 | 4 | 2 | ⋯ | 3 | 3 | 3 | 3 | 3 | 4 | 2 | 3 | 3 | 3 |\n",
       "| 1838 | 1838 | 1 | 0 | 0 | 1 | 84.51 | 1 | 67 | 2 | 2 | ⋯ | 4 | 2 | 2 | 4 | 4 | 4 | 2 | 2 | 4 | 4 |\n",
       "| 2450 | 2450 | 1 | 0 | 0 | 1 | 84.30 | 1 | 89 | 2 | 2 | ⋯ | 4 | 3 | 3 | 4 | 3 | 4 | 2 | 3 | 3 | 3 |\n",
       "| 647 |  647 | 1 | 0 | 0 | 2 | 89.14 | 1 | 36 | 4 | 4 | ⋯ | 2 | 3 | 3 | 2 | 3 | 4 | 3 | 3 | 4 | 3 |\n",
       "| 2772 | 2772 | 1 | 0 | 0 | 1 | 90.39 | 1 | 54 | 3 | 2 | ⋯ | 2 | 2 | 2 | 2 | 4 | 4 | 2 | 2 | 4 | 4 |\n",
       "\n"
      ],
      "text/plain": [
       "     fam  pid fid mid sex trait affection age rs1101 rs1102 ⋯ rs1111 rs1112\n",
       "4928 4928 1   0   0   1   85.51 1         66  4      2      ⋯ 3      3     \n",
       "1838 1838 1   0   0   1   84.51 1         67  2      2      ⋯ 4      2     \n",
       "2450 2450 1   0   0   1   84.30 1         89  2      2      ⋯ 4      3     \n",
       "647   647 1   0   0   2   89.14 1         36  4      4      ⋯ 2      3     \n",
       "2772 2772 1   0   0   1   90.39 1         54  3      2      ⋯ 2      2     \n",
       "     rs1113 rs1114 rs1115 rs1116 rs1117 rs1118 rs1119 rs1120\n",
       "4928 3      3      3      4      2      3      3      3     \n",
       "1838 2      4      4      4      2      2      4      4     \n",
       "2450 3      4      3      4      2      3      3      3     \n",
       "647  3      2      3      4      3      3      4      3     \n",
       "2772 2      2      4      4      2      2      4      4     "
      ]
     },
     "metadata": {},
     "output_type": "display_data"
    },
    {
     "data": {
      "text/plain": [
       "      fam            pid         fid         mid    sex         trait       \n",
       " Min.   :   1   Min.   :1   Min.   :0   Min.   :0   1:329   Min.   : 60.50  \n",
       " 1st Qu.:1250   1st Qu.:1   1st Qu.:0   1st Qu.:0   2:271   1st Qu.: 77.44  \n",
       " Median :2600   Median :1   Median :0   Median :0           Median : 82.00  \n",
       " Mean   :2536   Mean   :1   Mean   :0   Mean   :0           Mean   : 81.85  \n",
       " 3rd Qu.:3729   3rd Qu.:1   3rd Qu.:0   3rd Qu.:0           3rd Qu.: 86.09  \n",
       " Max.   :5000   Max.   :1   Max.   :0   Max.   :0           Max.   :101.49  \n",
       " affection      age        rs1101  rs1102  rs1103   rs1104    rs1105 \n",
       " 0:300     Min.   :18.00   2:115   2:317   2:165   2   : 32   2:118  \n",
       " 1:300     1st Qu.:38.00   3:311   3:249   3:309   3   :208   3:311  \n",
       "           Median :55.00   4:174   4: 34   4:126   4   :268   4:171  \n",
       "           Mean   :55.49                           NA's: 92          \n",
       "           3rd Qu.:74.00                                             \n",
       "           Max.   :90.00                                             \n",
       "  rs1106    rs1107  rs1108  rs1109  rs1110  rs1111  rs1112  rs1113  rs1114 \n",
       " 2   :399   2:430   2:163   2:113   2:112   2:194   2:297   2:321   2:210  \n",
       " 3   :141   3:157   3:298   3:305   3:323   3:290   3:251   3:236   3:279  \n",
       " 4   : 12   4: 13   4:139   4:182   4:165   4:116   4: 52   4: 43   4:111  \n",
       " NA's: 48                                                                  \n",
       "                                                                           \n",
       "                                                                           \n",
       " rs1115  rs1116  rs1117  rs1118  rs1119  rs1120 \n",
       " 2: 45   2:  4   2:396   2:305   2: 23   2: 57  \n",
       " 3:227   3: 88   3:190   3:249   3:176   3:249  \n",
       " 4:328   4:508   4: 14   4: 46   4:401   4:294  \n",
       "                                                \n",
       "                                                \n",
       "                                                "
      ]
     },
     "metadata": {},
     "output_type": "display_data"
    }
   ],
   "source": [
    "load (\"./data/dbp.R\")\n",
    "ls ()\n",
    "dbp[1:5,]\n",
    "\n",
    "summary(dbp)"
   ]
  },
  {
   "cell_type": "code",
   "execution_count": 4,
   "id": "e39e663d-93d7-4d25-9660-9c34981f93aa",
   "metadata": {
    "kernel": "R"
   },
   "outputs": [
    {
     "name": "stdout",
     "output_type": "stream",
     "text": [
      "\n",
      "Call:  glm(formula = affection ~ rs1112, family = binomial(\"logit\"), \n",
      "    data = dbp)\n",
      "\n",
      "Coefficients:\n",
      "(Intercept)      rs11123      rs11124  \n",
      "    -0.4449       0.7582       1.5435  \n",
      "\n",
      "Degrees of Freedom: 599 Total (i.e. Null);  597 Residual\n",
      "Null Deviance:\t    831.8 \n",
      "Residual Deviance: 797.7 \tAIC: 803.7\n",
      "[1] \"glm\" \"lm\" \n",
      "\n",
      "Call:\n",
      "glm(formula = affection ~ rs1112, family = binomial(\"logit\"), \n",
      "    data = dbp)\n",
      "\n",
      "Coefficients:\n",
      "            Estimate Std. Error z value Pr(>|z|)    \n",
      "(Intercept)  -0.4449     0.1189  -3.741 0.000183 ***\n",
      "rs11123       0.7582     0.1746   4.343 1.40e-05 ***\n",
      "rs11124       1.5435     0.3416   4.518 6.24e-06 ***\n",
      "---\n",
      "Signif. codes:  0 ‘***’ 0.001 ‘**’ 0.01 ‘*’ 0.05 ‘.’ 0.1 ‘ ’ 1\n",
      "\n",
      "(Dispersion parameter for binomial family taken to be 1)\n",
      "\n",
      "    Null deviance: 831.78  on 599  degrees of freedom\n",
      "Residual deviance: 797.75  on 597  degrees of freedom\n",
      "AIC: 803.75\n",
      "\n",
      "Number of Fisher Scoring iterations: 4\n",
      "\n",
      "[1] 4.077856e-08\n",
      "              Estimate Std. Error   z value     Pr(>|z|)\n",
      "(Intercept) -0.4449068  0.1189351 -3.740754 1.834691e-04\n",
      "rs11123      0.7582015  0.1745740  4.343154 1.404519e-05\n",
      "rs11124      1.5435191  0.3416277  4.518132 6.238747e-06\n",
      "  rs11123   rs11124 \n",
      "0.7582015 1.5435191 \n",
      " rs11123  rs11124 \n",
      "2.134434 4.681034 \n"
     ]
    },
    {
     "name": "stderr",
     "output_type": "stream",
     "text": [
      "Waiting for profiling to be done...\n",
      "\n"
     ]
    },
    {
     "name": "stdout",
     "output_type": "stream",
     "text": [
      "                 2.5 %     97.5 %\n",
      "(Intercept) -0.6802726 -0.2135169\n",
      "rs11123      0.4176220  1.1023701\n",
      "rs11124      0.8984800  2.2475097\n",
      "                2.5 %    97.5 %\n",
      "(Intercept) 0.5064789 0.8077385\n",
      "rs11123     1.5183466 3.0112947\n",
      "rs11124     2.4558674 9.4641382\n"
     ]
    },
    {
     "data": {
      "text/plain": [
       " affection rs1112 \n",
       " 0:300     2:297  \n",
       " 1:300     3:251  \n",
       "           4: 52  "
      ]
     },
     "metadata": {},
     "output_type": "display_data"
    },
    {
     "data": {
      "text/plain": [
       " affection     rs1112      \n",
       " 0:300     Min.   :0.0000  \n",
       " 1:300     1st Qu.:0.0000  \n",
       "           Median :1.0000  \n",
       "           Mean   :0.5917  \n",
       "           3rd Qu.:1.0000  \n",
       "           Max.   :2.0000  "
      ]
     },
     "metadata": {},
     "output_type": "display_data"
    },
    {
     "data": {
      "text/plain": [
       "\n",
       "Call:\n",
       "glm(formula = affection ~ rs1112, family = binomial(\"logit\"), \n",
       "    data = snp.data)\n",
       "\n",
       "Coefficients:\n",
       "            Estimate Std. Error z value Pr(>|z|)    \n",
       "(Intercept)  -0.4470     0.1142  -3.913 9.10e-05 ***\n",
       "rs1112        0.7652     0.1356   5.642 1.68e-08 ***\n",
       "---\n",
       "Signif. codes:  0 ‘***’ 0.001 ‘**’ 0.01 ‘*’ 0.05 ‘.’ 0.1 ‘ ’ 1\n",
       "\n",
       "(Dispersion parameter for binomial family taken to be 1)\n",
       "\n",
       "    Null deviance: 831.78  on 599  degrees of freedom\n",
       "Residual deviance: 797.75  on 598  degrees of freedom\n",
       "AIC: 801.75\n",
       "\n",
       "Number of Fisher Scoring iterations: 4\n"
      ]
     },
     "metadata": {},
     "output_type": "display_data"
    },
    {
     "name": "stdout",
     "output_type": "stream",
     "text": [
      "Analysis of Deviance Table\n",
      "\n",
      "Model: binomial, link: logit\n",
      "\n",
      "Response: affection\n",
      "\n",
      "Terms added sequentially (first to last)\n",
      "\n",
      "\n",
      "       Df Deviance Resid. Df Resid. Dev  Pr(>Chi)    \n",
      "NULL                     599     831.78              \n",
      "rs1112  1   34.026       598     797.75 5.438e-09 ***\n",
      "---\n",
      "Signif. codes:  0 ‘***’ 0.001 ‘**’ 0.01 ‘*’ 0.05 ‘.’ 0.1 ‘ ’ 1\n"
     ]
    },
    {
     "data": {
      "text/plain": [
       " affection     trait        sex          age        rs1112  rs1117 \n",
       " 0:300     Min.   : 60.50   1:329   Min.   :18.00   2:297   2:396  \n",
       " 1:300     1st Qu.: 77.44   2:271   1st Qu.:38.00   3:251   3:190  \n",
       "           Median : 82.00           Median :55.00   4: 52   4: 14  \n",
       "           Mean   : 81.85           Mean   :55.49                  \n",
       "           3rd Qu.: 86.09           3rd Qu.:74.00                  \n",
       "           Max.   :101.49           Max.   :90.00                  "
      ]
     },
     "metadata": {},
     "output_type": "display_data"
    }
   ],
   "source": [
    "# --- I. Logistic regression on a single SNP genotype --- #\n",
    "\n",
    "# Regression + Wald test #\n",
    "result.snp12 = glm (affection ~ rs1112, family=binomial(\"logit\"), data=dbp)\n",
    "print ( result.snp12 )\n",
    "print ( class (result.snp12) )\n",
    "print ( summary(result.snp12) )\n",
    "\n",
    "# LRT #\n",
    "dev.geno = anova (result.snp12, test=\"Chi\")\n",
    "  lrt.pvalue = pchisq(dev.geno[dim(dev.geno)[1],\"Deviance\"], df=2, ncp=0, FALSE) \n",
    "  print ( lrt.pvalue )\n",
    "\n",
    "# OR + CI #\n",
    "print ( summary(result.snp12)$coefficients )\n",
    "snp.beta = summary(result.snp12)$coefficients[2:3,1]\n",
    "  print ( snp.beta )\n",
    "  print ( exp(snp.beta) )\n",
    "ci = confint (result.snp12)\n",
    "  print (ci) \n",
    "  print ( exp(ci) )\n",
    "\n",
    "# Allelic model #\n",
    "snp.data = dbp[,c(\"affection\", \"rs1112\")]\n",
    "  summary(snp.data)\n",
    "snp.data[,\"rs1112\"] <- as.numeric(snp.data[,\"rs1112\"]) - 1\n",
    "  summary(snp.data)\n",
    "\n",
    "# Results for allelic model (allele 2) #\n",
    "result.all = glm (affection ~ rs1112, family=binomial(\"logit\"), data=snp.data)\n",
    "dev.all    = anova (result.all, test=\"Chi\")\n",
    "summary(result.all)   \n",
    "print(dev.all) \n",
    "\n",
    "\n",
    "# --- Excerpt  --- #\n",
    "snp.data = dbp[,c(\"affection\", \"trait\",\"sex\", \"age\", \"rs1112\", \"rs1117\")]\n",
    "  summary(snp.data)\n",
    "\n",
    "# Allelic model #\n",
    "snp.data[,\"rs1112\"] <- as.numeric(snp.data[,\"rs1112\"]) - 1\n",
    "snp.data[,\"rs1117\"] <- as.numeric(snp.data[,\"rs1117\"]) - 1"
   ]
  },
  {
   "cell_type": "code",
   "execution_count": 5,
   "id": "22c5133e-9971-4116-9015-ac3628a856a4",
   "metadata": {
    "kernel": "R"
   },
   "outputs": [
    {
     "data": {
      "text/plain": [
       "\n",
       "Call:\n",
       "glm(formula = affection ~ sex + rs1112, family = binomial(\"logit\"), \n",
       "    data = snp.data)\n",
       "\n",
       "Coefficients:\n",
       "            Estimate Std. Error z value Pr(>|z|)    \n",
       "(Intercept) -0.08386    0.13730  -0.611    0.541    \n",
       "sex2        -0.81412    0.17253  -4.719 2.37e-06 ***\n",
       "rs1112       0.77139    0.13840   5.574 2.49e-08 ***\n",
       "---\n",
       "Signif. codes:  0 ‘***’ 0.001 ‘**’ 0.01 ‘*’ 0.05 ‘.’ 0.1 ‘ ’ 1\n",
       "\n",
       "(Dispersion parameter for binomial family taken to be 1)\n",
       "\n",
       "    Null deviance: 831.78  on 599  degrees of freedom\n",
       "Residual deviance: 774.98  on 597  degrees of freedom\n",
       "AIC: 780.98\n",
       "\n",
       "Number of Fisher Scoring iterations: 4\n"
      ]
     },
     "metadata": {},
     "output_type": "display_data"
    },
    {
     "data": {
      "text/plain": [
       "\n",
       "Call:\n",
       "glm(formula = affection ~ age + rs1112, family = binomial(\"logit\"), \n",
       "    data = snp.data)\n",
       "\n",
       "Coefficients:\n",
       "             Estimate Std. Error z value Pr(>|z|)    \n",
       "(Intercept) -0.520422   0.250956  -2.074   0.0381 *  \n",
       "age          0.001322   0.004020   0.329   0.7423    \n",
       "rs1112       0.765189   0.135624   5.642 1.68e-08 ***\n",
       "---\n",
       "Signif. codes:  0 ‘***’ 0.001 ‘**’ 0.01 ‘*’ 0.05 ‘.’ 0.1 ‘ ’ 1\n",
       "\n",
       "(Dispersion parameter for binomial family taken to be 1)\n",
       "\n",
       "    Null deviance: 831.78  on 599  degrees of freedom\n",
       "Residual deviance: 797.64  on 597  degrees of freedom\n",
       "AIC: 803.64\n",
       "\n",
       "Number of Fisher Scoring iterations: 4\n"
      ]
     },
     "metadata": {},
     "output_type": "display_data"
    },
    {
     "data": {
      "text/plain": [
       "\n",
       "Call:\n",
       "glm(formula = affection ~ sex + age + rs1112, family = binomial(\"logit\"), \n",
       "    data = snp.data)\n",
       "\n",
       "Coefficients:\n",
       "             Estimate Std. Error z value Pr(>|z|)    \n",
       "(Intercept) -0.198133   0.263732  -0.751    0.452    \n",
       "sex2        -0.817603   0.172736  -4.733 2.21e-06 ***\n",
       "age          0.002084   0.004105   0.508    0.612    \n",
       "rs1112       0.771546   0.138411   5.574 2.48e-08 ***\n",
       "---\n",
       "Signif. codes:  0 ‘***’ 0.001 ‘**’ 0.01 ‘*’ 0.05 ‘.’ 0.1 ‘ ’ 1\n",
       "\n",
       "(Dispersion parameter for binomial family taken to be 1)\n",
       "\n",
       "    Null deviance: 831.78  on 599  degrees of freedom\n",
       "Residual deviance: 774.72  on 596  degrees of freedom\n",
       "AIC: 782.72\n",
       "\n",
       "Number of Fisher Scoring iterations: 4\n"
      ]
     },
     "metadata": {},
     "output_type": "display_data"
    },
    {
     "data": {
      "text/plain": [
       "\n",
       "Call:\n",
       "glm(formula = affection ~ rs1117 + rs1112, family = binomial(\"logit\"), \n",
       "    data = snp.data)\n",
       "\n",
       "Coefficients:\n",
       "            Estimate Std. Error z value Pr(>|z|)    \n",
       "(Intercept)  -0.4523     0.1144  -3.955 7.66e-05 ***\n",
       "rs1117        0.2853     0.2297   1.242  0.21431    \n",
       "rs1112        0.5999     0.1883   3.186  0.00144 ** \n",
       "---\n",
       "Signif. codes:  0 ‘***’ 0.001 ‘**’ 0.01 ‘*’ 0.05 ‘.’ 0.1 ‘ ’ 1\n",
       "\n",
       "(Dispersion parameter for binomial family taken to be 1)\n",
       "\n",
       "    Null deviance: 831.78  on 599  degrees of freedom\n",
       "Residual deviance: 796.21  on 597  degrees of freedom\n",
       "AIC: 802.21\n",
       "\n",
       "Number of Fisher Scoring iterations: 4\n"
      ]
     },
     "metadata": {},
     "output_type": "display_data"
    },
    {
     "data": {
      "text/html": [
       "<table class=\"dataframe\">\n",
       "<caption>A anova: 3 × 5</caption>\n",
       "<thead>\n",
       "\t<tr><th></th><th scope=col>Df</th><th scope=col>Deviance</th><th scope=col>Resid. Df</th><th scope=col>Resid. Dev</th><th scope=col>Pr(&gt;Chi)</th></tr>\n",
       "\t<tr><th></th><th scope=col>&lt;int&gt;</th><th scope=col>&lt;dbl&gt;</th><th scope=col>&lt;int&gt;</th><th scope=col>&lt;dbl&gt;</th><th scope=col>&lt;dbl&gt;</th></tr>\n",
       "</thead>\n",
       "<tbody>\n",
       "\t<tr><th scope=row>NULL</th><td>NA</td><td>      NA</td><td>599</td><td>831.7766</td><td>          NA</td></tr>\n",
       "\t<tr><th scope=row>rs1117</th><td> 1</td><td>25.06376</td><td>598</td><td>806.7129</td><td>5.546551e-07</td></tr>\n",
       "\t<tr><th scope=row>rs1112</th><td> 1</td><td>10.50081</td><td>597</td><td>796.2120</td><td>1.193220e-03</td></tr>\n",
       "</tbody>\n",
       "</table>\n"
      ],
      "text/latex": [
       "A anova: 3 × 5\n",
       "\\begin{tabular}{r|lllll}\n",
       "  & Df & Deviance & Resid. Df & Resid. Dev & Pr(>Chi)\\\\\n",
       "  & <int> & <dbl> & <int> & <dbl> & <dbl>\\\\\n",
       "\\hline\n",
       "\tNULL & NA &       NA & 599 & 831.7766 &           NA\\\\\n",
       "\trs1117 &  1 & 25.06376 & 598 & 806.7129 & 5.546551e-07\\\\\n",
       "\trs1112 &  1 & 10.50081 & 597 & 796.2120 & 1.193220e-03\\\\\n",
       "\\end{tabular}\n"
      ],
      "text/markdown": [
       "\n",
       "A anova: 3 × 5\n",
       "\n",
       "| <!--/--> | Df &lt;int&gt; | Deviance &lt;dbl&gt; | Resid. Df &lt;int&gt; | Resid. Dev &lt;dbl&gt; | Pr(&gt;Chi) &lt;dbl&gt; |\n",
       "|---|---|---|---|---|---|\n",
       "| NULL | NA |       NA | 599 | 831.7766 |           NA |\n",
       "| rs1117 |  1 | 25.06376 | 598 | 806.7129 | 5.546551e-07 |\n",
       "| rs1112 |  1 | 10.50081 | 597 | 796.2120 | 1.193220e-03 |\n",
       "\n"
      ],
      "text/plain": [
       "       Df Deviance Resid. Df Resid. Dev Pr(>Chi)    \n",
       "NULL   NA       NA 599       831.7766             NA\n",
       "rs1117  1 25.06376 598       806.7129   5.546551e-07\n",
       "rs1112  1 10.50081 597       796.2120   1.193220e-03"
      ]
     },
     "metadata": {},
     "output_type": "display_data"
    },
    {
     "data": {
      "text/plain": [
       "\n",
       "Call:\n",
       "glm(formula = affection ~ rs1112 + rs1117, family = binomial(\"logit\"), \n",
       "    data = snp.data)\n",
       "\n",
       "Coefficients:\n",
       "            Estimate Std. Error z value Pr(>|z|)    \n",
       "(Intercept)  -0.4523     0.1144  -3.955 7.66e-05 ***\n",
       "rs1112        0.5999     0.1883   3.186  0.00144 ** \n",
       "rs1117        0.2853     0.2297   1.242  0.21431    \n",
       "---\n",
       "Signif. codes:  0 ‘***’ 0.001 ‘**’ 0.01 ‘*’ 0.05 ‘.’ 0.1 ‘ ’ 1\n",
       "\n",
       "(Dispersion parameter for binomial family taken to be 1)\n",
       "\n",
       "    Null deviance: 831.78  on 599  degrees of freedom\n",
       "Residual deviance: 796.21  on 597  degrees of freedom\n",
       "AIC: 802.21\n",
       "\n",
       "Number of Fisher Scoring iterations: 4\n"
      ]
     },
     "metadata": {},
     "output_type": "display_data"
    },
    {
     "data": {
      "text/html": [
       "<table class=\"dataframe\">\n",
       "<caption>A anova: 3 × 5</caption>\n",
       "<thead>\n",
       "\t<tr><th></th><th scope=col>Df</th><th scope=col>Deviance</th><th scope=col>Resid. Df</th><th scope=col>Resid. Dev</th><th scope=col>Pr(&gt;Chi)</th></tr>\n",
       "\t<tr><th></th><th scope=col>&lt;int&gt;</th><th scope=col>&lt;dbl&gt;</th><th scope=col>&lt;int&gt;</th><th scope=col>&lt;dbl&gt;</th><th scope=col>&lt;dbl&gt;</th></tr>\n",
       "</thead>\n",
       "<tbody>\n",
       "\t<tr><th scope=row>NULL</th><td>NA</td><td>       NA</td><td>599</td><td>831.7766</td><td>          NA</td></tr>\n",
       "\t<tr><th scope=row>rs1112</th><td> 1</td><td>34.026174</td><td>598</td><td>797.7504</td><td>5.437568e-09</td></tr>\n",
       "\t<tr><th scope=row>rs1117</th><td> 1</td><td> 1.538401</td><td>597</td><td>796.2120</td><td>2.148560e-01</td></tr>\n",
       "</tbody>\n",
       "</table>\n"
      ],
      "text/latex": [
       "A anova: 3 × 5\n",
       "\\begin{tabular}{r|lllll}\n",
       "  & Df & Deviance & Resid. Df & Resid. Dev & Pr(>Chi)\\\\\n",
       "  & <int> & <dbl> & <int> & <dbl> & <dbl>\\\\\n",
       "\\hline\n",
       "\tNULL & NA &        NA & 599 & 831.7766 &           NA\\\\\n",
       "\trs1112 &  1 & 34.026174 & 598 & 797.7504 & 5.437568e-09\\\\\n",
       "\trs1117 &  1 &  1.538401 & 597 & 796.2120 & 2.148560e-01\\\\\n",
       "\\end{tabular}\n"
      ],
      "text/markdown": [
       "\n",
       "A anova: 3 × 5\n",
       "\n",
       "| <!--/--> | Df &lt;int&gt; | Deviance &lt;dbl&gt; | Resid. Df &lt;int&gt; | Resid. Dev &lt;dbl&gt; | Pr(&gt;Chi) &lt;dbl&gt; |\n",
       "|---|---|---|---|---|---|\n",
       "| NULL | NA |        NA | 599 | 831.7766 |           NA |\n",
       "| rs1112 |  1 | 34.026174 | 598 | 797.7504 | 5.437568e-09 |\n",
       "| rs1117 |  1 |  1.538401 | 597 | 796.2120 | 2.148560e-01 |\n",
       "\n"
      ],
      "text/plain": [
       "       Df Deviance  Resid. Df Resid. Dev Pr(>Chi)    \n",
       "NULL   NA        NA 599       831.7766             NA\n",
       "rs1112  1 34.026174 598       797.7504   5.437568e-09\n",
       "rs1117  1  1.538401 597       796.2120   2.148560e-01"
      ]
     },
     "metadata": {},
     "output_type": "display_data"
    }
   ],
   "source": [
    "# --- II. Adjustment for the effects of covariates and of other SNPs --- #\n",
    "\n",
    "# Covariates #\n",
    "result.adj = glm (affection ~ sex + rs1112      , family=binomial(\"logit\"), data=snp.data)\n",
    "  summary(result.adj)\n",
    "result.adj = glm (affection ~ age + rs1112      , family=binomial(\"logit\"), data=snp.data)\n",
    "  summary(result.adj)\n",
    "result.adj = glm (affection ~ sex + age + rs1112, family=binomial(\"logit\"), data=snp.data)\n",
    "  summary(result.adj)\n",
    "\n",
    "\n",
    "# Effect of SNP2 given SNP 1 # \n",
    "result.adj = glm (affection ~ rs1117 + rs1112, family=binomial(\"logit\"), data=snp.data)\n",
    "  summary(result.adj)\n",
    "  anova (result.adj, test=\"Chi\")\n",
    "result.adj = glm (affection ~ rs1112 + rs1117, family=binomial(\"logit\"), data=snp.data)\n",
    "  summary(result.adj)\n",
    "  anova (result.adj, test=\"Chi\")"
   ]
  },
  {
   "cell_type": "code",
   "execution_count": 6,
   "id": "2f090b46-61b7-4a60-a78c-330cba6664ae",
   "metadata": {
    "kernel": "R"
   },
   "outputs": [
    {
     "data": {
      "text/plain": [
       "\n",
       "Call:\n",
       "lm(formula = trait ~ rs1112, data = snp.data)\n",
       "\n",
       "Residuals:\n",
       "     Min       1Q   Median       3Q      Max \n",
       "-22.5556  -3.9106   0.2194   4.0144  15.4809 \n",
       "\n",
       "Coefficients:\n",
       "            Estimate Std. Error t value Pr(>|t|)    \n",
       "(Intercept)  80.1021     0.3301 242.680  < 2e-16 ***\n",
       "rs1112        2.9535     0.3774   7.826 2.29e-14 ***\n",
       "---\n",
       "Signif. codes:  0 ‘***’ 0.001 ‘**’ 0.01 ‘*’ 0.05 ‘.’ 0.1 ‘ ’ 1\n",
       "\n",
       "Residual standard error: 5.954 on 598 degrees of freedom\n",
       "Multiple R-squared:  0.09291,\tAdjusted R-squared:  0.09139 \n",
       "F-statistic: 61.25 on 1 and 598 DF,  p-value: 2.292e-14\n"
      ]
     },
     "metadata": {},
     "output_type": "display_data"
    },
    {
     "data": {
      "text/plain": [
       "\n",
       "Call:\n",
       "lm(formula = trait ~ sex + rs1112, data = snp.data)\n",
       "\n",
       "Residuals:\n",
       "     Min       1Q   Median       3Q      Max \n",
       "-20.9404  -3.6272   0.2234   3.7815  16.3480 \n",
       "\n",
       "Coefficients:\n",
       "            Estimate Std. Error t value Pr(>|t|)    \n",
       "(Intercept)  81.4542     0.3904 208.654  < 2e-16 ***\n",
       "sex2         -2.8823     0.4748  -6.071 2.27e-09 ***\n",
       "rs1112        2.8685     0.3668   7.820 2.41e-14 ***\n",
       "---\n",
       "Signif. codes:  0 ‘***’ 0.001 ‘**’ 0.01 ‘*’ 0.05 ‘.’ 0.1 ‘ ’ 1\n",
       "\n",
       "Residual standard error: 5.784 on 597 degrees of freedom\n",
       "Multiple R-squared:  0.1456,\tAdjusted R-squared:  0.1428 \n",
       "F-statistic: 50.89 on 2 and 597 DF,  p-value: < 2.2e-16\n"
      ]
     },
     "metadata": {},
     "output_type": "display_data"
    }
   ],
   "source": [
    "# --- III. Analysis of quantitative instead of dichotomized trait --- #\n",
    "\n",
    "# Consideration of QT instead of binary affection status (dichotomized QT) #\n",
    "result.adj = lm (trait ~ rs1112      , data=snp.data)\n",
    "  summary(result.adj)\n",
    "result.adj = lm (trait ~ sex + rs1112, data=snp.data)\n",
    "  summary(result.adj)"
   ]
  },
  {
   "cell_type": "code",
   "execution_count": 7,
   "id": "3fe03329-a2fc-4ade-8e5a-22b1232c2ea5",
   "metadata": {
    "kernel": "R"
   },
   "outputs": [
    {
     "data": {
      "text/plain": [
       "\n",
       "Call:\n",
       "glm(formula = affection ~ sex * rs1112, family = binomial(\"logit\"), \n",
       "    data = snp.data)\n",
       "\n",
       "Coefficients:\n",
       "            Estimate Std. Error z value Pr(>|z|)    \n",
       "(Intercept) -0.09415    0.15371  -0.613 0.540174    \n",
       "sex2        -0.79026    0.23515  -3.361 0.000777 ***\n",
       "rs1112       0.79049    0.18896   4.183 2.87e-05 ***\n",
       "sex2:rs1112 -0.04141    0.27771  -0.149 0.881472    \n",
       "---\n",
       "Signif. codes:  0 ‘***’ 0.001 ‘**’ 0.01 ‘*’ 0.05 ‘.’ 0.1 ‘ ’ 1\n",
       "\n",
       "(Dispersion parameter for binomial family taken to be 1)\n",
       "\n",
       "    Null deviance: 831.78  on 599  degrees of freedom\n",
       "Residual deviance: 774.96  on 596  degrees of freedom\n",
       "AIC: 782.96\n",
       "\n",
       "Number of Fisher Scoring iterations: 4\n"
      ]
     },
     "metadata": {},
     "output_type": "display_data"
    },
    {
     "data": {
      "text/plain": [
       "\n",
       "Call:\n",
       "glm(formula = affection ~ age * rs1112, family = binomial(\"logit\"), \n",
       "    data = snp.data)\n",
       "\n",
       "Coefficients:\n",
       "             Estimate Std. Error z value Pr(>|z|)   \n",
       "(Intercept) -0.764365   0.328207  -2.329  0.01986 * \n",
       "age          0.005719   0.005508   1.038  0.29909   \n",
       "rs1112       1.193715   0.393377   3.035  0.00241 **\n",
       "age:rs1112  -0.007716   0.006585  -1.172  0.24130   \n",
       "---\n",
       "Signif. codes:  0 ‘***’ 0.001 ‘**’ 0.01 ‘*’ 0.05 ‘.’ 0.1 ‘ ’ 1\n",
       "\n",
       "(Dispersion parameter for binomial family taken to be 1)\n",
       "\n",
       "    Null deviance: 831.78  on 599  degrees of freedom\n",
       "Residual deviance: 796.26  on 596  degrees of freedom\n",
       "AIC: 804.26\n",
       "\n",
       "Number of Fisher Scoring iterations: 4\n"
      ]
     },
     "metadata": {},
     "output_type": "display_data"
    },
    {
     "data": {
      "text/plain": [
       "\n",
       "Call:\n",
       "glm(formula = affection ~ rs1112 * rs1117, family = binomial(\"logit\"), \n",
       "    data = snp.data)\n",
       "\n",
       "Coefficients:\n",
       "              Estimate Std. Error z value Pr(>|z|)    \n",
       "(Intercept)   -0.45855    0.11749  -3.903  9.5e-05 ***\n",
       "rs1112         0.61285    0.19612   3.125  0.00178 ** \n",
       "rs1117         0.37232    0.43522   0.855  0.39228    \n",
       "rs1112:rs1117 -0.07464    0.31590  -0.236  0.81323    \n",
       "---\n",
       "Signif. codes:  0 ‘***’ 0.001 ‘**’ 0.01 ‘*’ 0.05 ‘.’ 0.1 ‘ ’ 1\n",
       "\n",
       "(Dispersion parameter for binomial family taken to be 1)\n",
       "\n",
       "    Null deviance: 831.78  on 599  degrees of freedom\n",
       "Residual deviance: 796.16  on 596  degrees of freedom\n",
       "AIC: 804.16\n",
       "\n",
       "Number of Fisher Scoring iterations: 4\n"
      ]
     },
     "metadata": {},
     "output_type": "display_data"
    }
   ],
   "source": [
    "# --- IV. Gene-environment (GxE) and gene-gene (GxG) interaction --- #\n",
    "\n",
    "# GxE #\n",
    "result.inter = glm (affection ~ sex * rs1112, family=binomial(\"logit\"), data=snp.data)\n",
    "  summary(result.inter)\n",
    "result.inter = glm (affection ~ age * rs1112, family=binomial(\"logit\"), data=snp.data)\n",
    "  summary(result.inter)\n",
    "\n",
    "# GxG #\n",
    "result.inter = glm (affection ~ rs1112 * rs1117, family=binomial(\"logit\"), data=snp.data)\n",
    "  summary(result.inter)"
   ]
  },
  {
   "cell_type": "code",
   "execution_count": 8,
   "id": "987393f8-c492-4089-8c8f-bf7a1874883e",
   "metadata": {
    "kernel": "R"
   },
   "outputs": [
    {
     "data": {
      "text/plain": [
       "\n",
       "Call:\n",
       "glm(formula = affection ~ sex + age + rs1112 + rs1117, family = binomial(\"logit\"), \n",
       "    data = snp.data)\n",
       "\n",
       "Coefficients:\n",
       "             Estimate Std. Error z value Pr(>|z|)    \n",
       "(Intercept) -0.211378   0.264220  -0.800  0.42371    \n",
       "sex2        -0.808941   0.173019  -4.675 2.93e-06 ***\n",
       "age          0.002183   0.004109   0.531  0.59519    \n",
       "rs1112       0.635080   0.193437   3.283  0.00103 ** \n",
       "rs1117       0.233915   0.235438   0.994  0.32045    \n",
       "---\n",
       "Signif. codes:  0 ‘***’ 0.001 ‘**’ 0.01 ‘*’ 0.05 ‘.’ 0.1 ‘ ’ 1\n",
       "\n",
       "(Dispersion parameter for binomial family taken to be 1)\n",
       "\n",
       "    Null deviance: 831.78  on 599  degrees of freedom\n",
       "Residual deviance: 773.74  on 595  degrees of freedom\n",
       "AIC: 783.74\n",
       "\n",
       "Number of Fisher Scoring iterations: 4\n"
      ]
     },
     "metadata": {},
     "output_type": "display_data"
    },
    {
     "name": "stdout",
     "output_type": "stream",
     "text": [
      "Start:  AIC=783.74\n",
      "affection ~ sex + age + rs1112 + rs1117\n",
      "\n",
      "         Df Deviance    AIC\n",
      "- age     1   774.02 782.02\n",
      "- rs1117  1   774.72 782.72\n",
      "<none>        773.74 783.74\n",
      "- rs1112  1   784.97 792.97\n",
      "- sex     1   796.08 804.08\n",
      "\n",
      "Step:  AIC=782.02\n",
      "affection ~ sex + rs1112 + rs1117\n",
      "\n",
      "         Df Deviance    AIC\n",
      "- rs1117  1   774.98 780.98\n",
      "<none>        774.02 782.02\n",
      "- rs1112  1   785.34 791.34\n",
      "- sex     1   796.21 802.21\n",
      "\n",
      "Step:  AIC=780.98\n",
      "affection ~ sex + rs1112\n",
      "\n",
      "         Df Deviance    AIC\n",
      "<none>        774.98 780.98\n",
      "- sex     1   797.75 801.75\n",
      "- rs1112  1   808.19 812.19\n"
     ]
    },
    {
     "data": {
      "text/plain": [
       "\n",
       "Call:\n",
       "glm(formula = affection ~ sex + rs1112, family = binomial(\"logit\"), \n",
       "    data = snp.data)\n",
       "\n",
       "Coefficients:\n",
       "            Estimate Std. Error z value Pr(>|z|)    \n",
       "(Intercept) -0.08386    0.13730  -0.611    0.541    \n",
       "sex2        -0.81412    0.17253  -4.719 2.37e-06 ***\n",
       "rs1112       0.77139    0.13840   5.574 2.49e-08 ***\n",
       "---\n",
       "Signif. codes:  0 ‘***’ 0.001 ‘**’ 0.01 ‘*’ 0.05 ‘.’ 0.1 ‘ ’ 1\n",
       "\n",
       "(Dispersion parameter for binomial family taken to be 1)\n",
       "\n",
       "    Null deviance: 831.78  on 599  degrees of freedom\n",
       "Residual deviance: 774.98  on 597  degrees of freedom\n",
       "AIC: 780.98\n",
       "\n",
       "Number of Fisher Scoring iterations: 4\n"
      ]
     },
     "metadata": {},
     "output_type": "display_data"
    }
   ],
   "source": [
    "# --- V. Model selection --- #\n",
    "\n",
    "result.reg = glm (affection ~ sex + age + rs1112 + rs1117, family=binomial(\"logit\"), data=snp.data)\n",
    "  summary(result.reg)\n",
    "\n",
    "modelchoice.result <- step (result.reg)\n",
    "  summary(modelchoice.result)"
   ]
  },
  {
   "cell_type": "code",
   "execution_count": null,
   "id": "3583d548-4f9f-4a94-a9c5-bd10e832360b",
   "metadata": {
    "kernel": "R"
   },
   "outputs": [],
   "source": []
  },
  {
   "cell_type": "code",
   "execution_count": 9,
   "id": "13e3669e-8102-4b16-b0ff-3c2148837260",
   "metadata": {
    "kernel": "R"
   },
   "outputs": [
    {
     "data": {
      "text/html": [
       "<style>\n",
       ".list-inline {list-style: none; margin:0; padding: 0}\n",
       ".list-inline>li {display: inline-block}\n",
       ".list-inline>li:not(:last-child)::after {content: \"\\00b7\"; padding: 0 .5ex}\n",
       "</style>\n",
       "<ol class=list-inline><li>'ci'</li><li>'dbp'</li><li>'dev.all'</li><li>'dev.geno'</li><li>'lrt.pvalue'</li><li>'modelchoice.result'</li><li>'result.adj'</li><li>'result.all'</li><li>'result.inter'</li><li>'result.reg'</li><li>'result.snp12'</li><li>'snp.beta'</li><li>'snp.data'</li></ol>\n"
      ],
      "text/latex": [
       "\\begin{enumerate*}\n",
       "\\item 'ci'\n",
       "\\item 'dbp'\n",
       "\\item 'dev.all'\n",
       "\\item 'dev.geno'\n",
       "\\item 'lrt.pvalue'\n",
       "\\item 'modelchoice.result'\n",
       "\\item 'result.adj'\n",
       "\\item 'result.all'\n",
       "\\item 'result.inter'\n",
       "\\item 'result.reg'\n",
       "\\item 'result.snp12'\n",
       "\\item 'snp.beta'\n",
       "\\item 'snp.data'\n",
       "\\end{enumerate*}\n"
      ],
      "text/markdown": [
       "1. 'ci'\n",
       "2. 'dbp'\n",
       "3. 'dev.all'\n",
       "4. 'dev.geno'\n",
       "5. 'lrt.pvalue'\n",
       "6. 'modelchoice.result'\n",
       "7. 'result.adj'\n",
       "8. 'result.all'\n",
       "9. 'result.inter'\n",
       "10. 'result.reg'\n",
       "11. 'result.snp12'\n",
       "12. 'snp.beta'\n",
       "13. 'snp.data'\n",
       "\n",
       "\n"
      ],
      "text/plain": [
       " [1] \"ci\"                 \"dbp\"                \"dev.all\"           \n",
       " [4] \"dev.geno\"           \"lrt.pvalue\"         \"modelchoice.result\"\n",
       " [7] \"result.adj\"         \"result.all\"         \"result.inter\"      \n",
       "[10] \"result.reg\"         \"result.snp12\"       \"snp.beta\"          \n",
       "[13] \"snp.data\"          "
      ]
     },
     "metadata": {},
     "output_type": "display_data"
    },
    {
     "data": {
      "text/html": [
       "<table class=\"dataframe\">\n",
       "<caption>A data.frame: 5 × 28</caption>\n",
       "<thead>\n",
       "\t<tr><th></th><th scope=col>fam</th><th scope=col>pid</th><th scope=col>fid</th><th scope=col>mid</th><th scope=col>sex</th><th scope=col>trait</th><th scope=col>affection</th><th scope=col>age</th><th scope=col>rs1101</th><th scope=col>rs1102</th><th scope=col>⋯</th><th scope=col>rs1111</th><th scope=col>rs1112</th><th scope=col>rs1113</th><th scope=col>rs1114</th><th scope=col>rs1115</th><th scope=col>rs1116</th><th scope=col>rs1117</th><th scope=col>rs1118</th><th scope=col>rs1119</th><th scope=col>rs1120</th></tr>\n",
       "\t<tr><th></th><th scope=col>&lt;int&gt;</th><th scope=col>&lt;int&gt;</th><th scope=col>&lt;int&gt;</th><th scope=col>&lt;int&gt;</th><th scope=col>&lt;fct&gt;</th><th scope=col>&lt;dbl&gt;</th><th scope=col>&lt;fct&gt;</th><th scope=col>&lt;int&gt;</th><th scope=col>&lt;fct&gt;</th><th scope=col>&lt;fct&gt;</th><th scope=col>⋯</th><th scope=col>&lt;fct&gt;</th><th scope=col>&lt;fct&gt;</th><th scope=col>&lt;fct&gt;</th><th scope=col>&lt;fct&gt;</th><th scope=col>&lt;fct&gt;</th><th scope=col>&lt;fct&gt;</th><th scope=col>&lt;fct&gt;</th><th scope=col>&lt;fct&gt;</th><th scope=col>&lt;fct&gt;</th><th scope=col>&lt;fct&gt;</th></tr>\n",
       "</thead>\n",
       "<tbody>\n",
       "\t<tr><th scope=row>4928</th><td>4928</td><td>1</td><td>0</td><td>0</td><td>1</td><td>85.51</td><td>1</td><td>66</td><td>4</td><td>2</td><td>⋯</td><td>3</td><td>3</td><td>3</td><td>3</td><td>3</td><td>4</td><td>2</td><td>3</td><td>3</td><td>3</td></tr>\n",
       "\t<tr><th scope=row>1838</th><td>1838</td><td>1</td><td>0</td><td>0</td><td>1</td><td>84.51</td><td>1</td><td>67</td><td>2</td><td>2</td><td>⋯</td><td>4</td><td>2</td><td>2</td><td>4</td><td>4</td><td>4</td><td>2</td><td>2</td><td>4</td><td>4</td></tr>\n",
       "\t<tr><th scope=row>2450</th><td>2450</td><td>1</td><td>0</td><td>0</td><td>1</td><td>84.30</td><td>1</td><td>89</td><td>2</td><td>2</td><td>⋯</td><td>4</td><td>3</td><td>3</td><td>4</td><td>3</td><td>4</td><td>2</td><td>3</td><td>3</td><td>3</td></tr>\n",
       "\t<tr><th scope=row>647</th><td> 647</td><td>1</td><td>0</td><td>0</td><td>2</td><td>89.14</td><td>1</td><td>36</td><td>4</td><td>4</td><td>⋯</td><td>2</td><td>3</td><td>3</td><td>2</td><td>3</td><td>4</td><td>3</td><td>3</td><td>4</td><td>3</td></tr>\n",
       "\t<tr><th scope=row>2772</th><td>2772</td><td>1</td><td>0</td><td>0</td><td>1</td><td>90.39</td><td>1</td><td>54</td><td>3</td><td>2</td><td>⋯</td><td>2</td><td>2</td><td>2</td><td>2</td><td>4</td><td>4</td><td>2</td><td>2</td><td>4</td><td>4</td></tr>\n",
       "</tbody>\n",
       "</table>\n"
      ],
      "text/latex": [
       "A data.frame: 5 × 28\n",
       "\\begin{tabular}{r|lllllllllllllllllllll}\n",
       "  & fam & pid & fid & mid & sex & trait & affection & age & rs1101 & rs1102 & ⋯ & rs1111 & rs1112 & rs1113 & rs1114 & rs1115 & rs1116 & rs1117 & rs1118 & rs1119 & rs1120\\\\\n",
       "  & <int> & <int> & <int> & <int> & <fct> & <dbl> & <fct> & <int> & <fct> & <fct> & ⋯ & <fct> & <fct> & <fct> & <fct> & <fct> & <fct> & <fct> & <fct> & <fct> & <fct>\\\\\n",
       "\\hline\n",
       "\t4928 & 4928 & 1 & 0 & 0 & 1 & 85.51 & 1 & 66 & 4 & 2 & ⋯ & 3 & 3 & 3 & 3 & 3 & 4 & 2 & 3 & 3 & 3\\\\\n",
       "\t1838 & 1838 & 1 & 0 & 0 & 1 & 84.51 & 1 & 67 & 2 & 2 & ⋯ & 4 & 2 & 2 & 4 & 4 & 4 & 2 & 2 & 4 & 4\\\\\n",
       "\t2450 & 2450 & 1 & 0 & 0 & 1 & 84.30 & 1 & 89 & 2 & 2 & ⋯ & 4 & 3 & 3 & 4 & 3 & 4 & 2 & 3 & 3 & 3\\\\\n",
       "\t647 &  647 & 1 & 0 & 0 & 2 & 89.14 & 1 & 36 & 4 & 4 & ⋯ & 2 & 3 & 3 & 2 & 3 & 4 & 3 & 3 & 4 & 3\\\\\n",
       "\t2772 & 2772 & 1 & 0 & 0 & 1 & 90.39 & 1 & 54 & 3 & 2 & ⋯ & 2 & 2 & 2 & 2 & 4 & 4 & 2 & 2 & 4 & 4\\\\\n",
       "\\end{tabular}\n"
      ],
      "text/markdown": [
       "\n",
       "A data.frame: 5 × 28\n",
       "\n",
       "| <!--/--> | fam &lt;int&gt; | pid &lt;int&gt; | fid &lt;int&gt; | mid &lt;int&gt; | sex &lt;fct&gt; | trait &lt;dbl&gt; | affection &lt;fct&gt; | age &lt;int&gt; | rs1101 &lt;fct&gt; | rs1102 &lt;fct&gt; | ⋯ ⋯ | rs1111 &lt;fct&gt; | rs1112 &lt;fct&gt; | rs1113 &lt;fct&gt; | rs1114 &lt;fct&gt; | rs1115 &lt;fct&gt; | rs1116 &lt;fct&gt; | rs1117 &lt;fct&gt; | rs1118 &lt;fct&gt; | rs1119 &lt;fct&gt; | rs1120 &lt;fct&gt; |\n",
       "|---|---|---|---|---|---|---|---|---|---|---|---|---|---|---|---|---|---|---|---|---|---|\n",
       "| 4928 | 4928 | 1 | 0 | 0 | 1 | 85.51 | 1 | 66 | 4 | 2 | ⋯ | 3 | 3 | 3 | 3 | 3 | 4 | 2 | 3 | 3 | 3 |\n",
       "| 1838 | 1838 | 1 | 0 | 0 | 1 | 84.51 | 1 | 67 | 2 | 2 | ⋯ | 4 | 2 | 2 | 4 | 4 | 4 | 2 | 2 | 4 | 4 |\n",
       "| 2450 | 2450 | 1 | 0 | 0 | 1 | 84.30 | 1 | 89 | 2 | 2 | ⋯ | 4 | 3 | 3 | 4 | 3 | 4 | 2 | 3 | 3 | 3 |\n",
       "| 647 |  647 | 1 | 0 | 0 | 2 | 89.14 | 1 | 36 | 4 | 4 | ⋯ | 2 | 3 | 3 | 2 | 3 | 4 | 3 | 3 | 4 | 3 |\n",
       "| 2772 | 2772 | 1 | 0 | 0 | 1 | 90.39 | 1 | 54 | 3 | 2 | ⋯ | 2 | 2 | 2 | 2 | 4 | 4 | 2 | 2 | 4 | 4 |\n",
       "\n"
      ],
      "text/plain": [
       "     fam  pid fid mid sex trait affection age rs1101 rs1102 ⋯ rs1111 rs1112\n",
       "4928 4928 1   0   0   1   85.51 1         66  4      2      ⋯ 3      3     \n",
       "1838 1838 1   0   0   1   84.51 1         67  2      2      ⋯ 4      2     \n",
       "2450 2450 1   0   0   1   84.30 1         89  2      2      ⋯ 4      3     \n",
       "647   647 1   0   0   2   89.14 1         36  4      4      ⋯ 2      3     \n",
       "2772 2772 1   0   0   1   90.39 1         54  3      2      ⋯ 2      2     \n",
       "     rs1113 rs1114 rs1115 rs1116 rs1117 rs1118 rs1119 rs1120\n",
       "4928 3      3      3      4      2      3      3      3     \n",
       "1838 2      4      4      4      2      2      4      4     \n",
       "2450 3      4      3      4      2      3      3      3     \n",
       "647  3      2      3      4      3      3      4      3     \n",
       "2772 2      2      4      4      2      2      4      4     "
      ]
     },
     "metadata": {},
     "output_type": "display_data"
    }
   ],
   "source": [
    "\n",
    "# Data set import\n",
    "\n",
    "load(\"./data/dbp.R\")\n",
    "ls()\n",
    "dbp[1:5,]"
   ]
  },
  {
   "cell_type": "code",
   "execution_count": 10,
   "id": "8d3629ea-b954-4221-83df-ca2ba38040e4",
   "metadata": {
    "kernel": "R"
   },
   "outputs": [
    {
     "name": "stdout",
     "output_type": "stream",
     "text": [
      "\n",
      "Call:  glm(formula = affection ~ rs1112, family = binomial(\"logit\"), \n",
      "    data = dbp)\n",
      "\n",
      "Coefficients:\n",
      "(Intercept)      rs11123      rs11124  \n",
      "    -0.4449       0.7582       1.5435  \n",
      "\n",
      "Degrees of Freedom: 599 Total (i.e. Null);  597 Residual\n",
      "Null Deviance:\t    831.8 \n",
      "Residual Deviance: 797.7 \tAIC: 803.7\n",
      "[1] \"glm\" \"lm\" \n",
      "\n",
      "Call:\n",
      "glm(formula = affection ~ rs1112, family = binomial(\"logit\"), \n",
      "    data = dbp)\n",
      "\n",
      "Coefficients:\n",
      "            Estimate Std. Error z value Pr(>|z|)    \n",
      "(Intercept)  -0.4449     0.1189  -3.741 0.000183 ***\n",
      "rs11123       0.7582     0.1746   4.343 1.40e-05 ***\n",
      "rs11124       1.5435     0.3416   4.518 6.24e-06 ***\n",
      "---\n",
      "Signif. codes:  0 ‘***’ 0.001 ‘**’ 0.01 ‘*’ 0.05 ‘.’ 0.1 ‘ ’ 1\n",
      "\n",
      "(Dispersion parameter for binomial family taken to be 1)\n",
      "\n",
      "    Null deviance: 831.78  on 599  degrees of freedom\n",
      "Residual deviance: 797.75  on 597  degrees of freedom\n",
      "AIC: 803.75\n",
      "\n",
      "Number of Fisher Scoring iterations: 4\n",
      "\n",
      "[1] 4.077856e-08\n",
      "              Estimate Std. Error   z value     Pr(>|z|)\n",
      "(Intercept) -0.4449068  0.1189351 -3.740754 1.834691e-04\n",
      "rs11123      0.7582015  0.1745740  4.343154 1.404519e-05\n",
      "rs11124      1.5435191  0.3416277  4.518132 6.238747e-06\n",
      "  rs11123   rs11124 \n",
      "0.7582015 1.5435191 \n",
      " rs11123  rs11124 \n",
      "2.134434 4.681034 \n"
     ]
    },
    {
     "name": "stderr",
     "output_type": "stream",
     "text": [
      "Waiting for profiling to be done...\n",
      "\n"
     ]
    },
    {
     "name": "stdout",
     "output_type": "stream",
     "text": [
      "                 2.5 %     97.5 %\n",
      "(Intercept) -0.6802726 -0.2135169\n",
      "rs11123      0.4176220  1.1023701\n",
      "rs11124      0.8984800  2.2475097\n",
      "                2.5 %    97.5 %\n",
      "(Intercept) 0.5064789 0.8077385\n",
      "rs11123     1.5183466 3.0112947\n",
      "rs11124     2.4558674 9.4641382\n"
     ]
    },
    {
     "data": {
      "text/plain": [
       " affection rs1112 \n",
       " 0:300     2:297  \n",
       " 1:300     3:251  \n",
       "           4: 52  "
      ]
     },
     "metadata": {},
     "output_type": "display_data"
    },
    {
     "data": {
      "text/plain": [
       " affection     rs1112      \n",
       " 0:300     Min.   :0.0000  \n",
       " 1:300     1st Qu.:0.0000  \n",
       "           Median :1.0000  \n",
       "           Mean   :0.5917  \n",
       "           3rd Qu.:1.0000  \n",
       "           Max.   :2.0000  "
      ]
     },
     "metadata": {},
     "output_type": "display_data"
    },
    {
     "data": {
      "text/plain": [
       "\n",
       "Call:\n",
       "glm(formula = affection ~ rs1112, family = binomial(\"logit\"), \n",
       "    data = snp.data)\n",
       "\n",
       "Coefficients:\n",
       "            Estimate Std. Error z value Pr(>|z|)    \n",
       "(Intercept)  -0.4470     0.1142  -3.913 9.10e-05 ***\n",
       "rs1112        0.7652     0.1356   5.642 1.68e-08 ***\n",
       "---\n",
       "Signif. codes:  0 ‘***’ 0.001 ‘**’ 0.01 ‘*’ 0.05 ‘.’ 0.1 ‘ ’ 1\n",
       "\n",
       "(Dispersion parameter for binomial family taken to be 1)\n",
       "\n",
       "    Null deviance: 831.78  on 599  degrees of freedom\n",
       "Residual deviance: 797.75  on 598  degrees of freedom\n",
       "AIC: 801.75\n",
       "\n",
       "Number of Fisher Scoring iterations: 4\n"
      ]
     },
     "metadata": {},
     "output_type": "display_data"
    },
    {
     "name": "stdout",
     "output_type": "stream",
     "text": [
      "Analysis of Deviance Table\n",
      "\n",
      "Model: binomial, link: logit\n",
      "\n",
      "Response: affection\n",
      "\n",
      "Terms added sequentially (first to last)\n",
      "\n",
      "\n",
      "       Df Deviance Resid. Df Resid. Dev  Pr(>Chi)    \n",
      "NULL                     599     831.78              \n",
      "rs1112  1   34.026       598     797.75 5.438e-09 ***\n",
      "---\n",
      "Signif. codes:  0 ‘***’ 0.001 ‘**’ 0.01 ‘*’ 0.05 ‘.’ 0.1 ‘ ’ 1\n"
     ]
    }
   ],
   "source": [
    "# I. Logistic regression on a single SNP genotype\n",
    "\n",
    "result.snp12 = glm (affection ~ rs1112, family=binomial(\"logit\"), data=dbp)\n",
    "print (result.snp12)\n",
    "print ( class  (result.snp12) )\n",
    "print ( summary(result.snp12) )\n",
    "\n",
    "dev.geno = anova (result.snp12, test=\"Chi\")\n",
    "lrt.pvalue = pchisq(dev.geno[dim(dev.geno)[1],\"Deviance\"], \n",
    "             df=2, ncp=0, FALSE) \n",
    "print ( lrt.pvalue )\n",
    "\n",
    "print ( summary(result.snp12)$coefficients )\n",
    "snp.beta = summary(result.snp12)$coefficients[2:3,1]\n",
    "print ( snp.beta )\n",
    "print ( exp(snp.beta) )\n",
    "\n",
    "ci = confint (result.snp12)\n",
    "print (ci) \n",
    "print ( exp(ci) )\n",
    "\n",
    "snp.data = dbp[,c(\"affection\", \"rs1112\")]\n",
    "summary(snp.data)\n",
    "\n",
    "snp.data[,\"rs1112\"] <- as.numeric(snp.data[,\"rs1112\"]) - 1\n",
    "summary(snp.data)\n",
    "\n",
    "result.all = glm (affection ~ rs1112, family=binomial(\"logit\"), \n",
    "                  data=snp.data)\n",
    "dev.all    = anova (result.all, test=\"Chi\")\n",
    "summary(result.all)   \n",
    "print(dev.all) "
   ]
  },
  {
   "cell_type": "code",
   "execution_count": 11,
   "id": "010526be-2e38-4c6d-82a1-9c1950811eba",
   "metadata": {
    "kernel": "R",
    "scrolled": true
   },
   "outputs": [
    {
     "data": {
      "text/plain": [
       " affection     trait        sex          age        rs1112  rs1117 \n",
       " 0:300     Min.   : 60.50   1:329   Min.   :18.00   2:297   2:396  \n",
       " 1:300     1st Qu.: 77.44   2:271   1st Qu.:38.00   3:251   3:190  \n",
       "           Median : 82.00           Median :55.00   4: 52   4: 14  \n",
       "           Mean   : 81.85           Mean   :55.49                  \n",
       "           3rd Qu.: 86.09           3rd Qu.:74.00                  \n",
       "           Max.   :101.49           Max.   :90.00                  "
      ]
     },
     "metadata": {},
     "output_type": "display_data"
    },
    {
     "data": {
      "text/plain": [
       "\n",
       "Call:\n",
       "glm(formula = affection ~ sex + rs1112, family = binomial(\"logit\"), \n",
       "    data = snp.data)\n",
       "\n",
       "Coefficients:\n",
       "            Estimate Std. Error z value Pr(>|z|)    \n",
       "(Intercept) -0.08386    0.13730  -0.611    0.541    \n",
       "sex2        -0.81412    0.17253  -4.719 2.37e-06 ***\n",
       "rs1112       0.77139    0.13840   5.574 2.49e-08 ***\n",
       "---\n",
       "Signif. codes:  0 ‘***’ 0.001 ‘**’ 0.01 ‘*’ 0.05 ‘.’ 0.1 ‘ ’ 1\n",
       "\n",
       "(Dispersion parameter for binomial family taken to be 1)\n",
       "\n",
       "    Null deviance: 831.78  on 599  degrees of freedom\n",
       "Residual deviance: 774.98  on 597  degrees of freedom\n",
       "AIC: 780.98\n",
       "\n",
       "Number of Fisher Scoring iterations: 4\n"
      ]
     },
     "metadata": {},
     "output_type": "display_data"
    },
    {
     "data": {
      "text/plain": [
       "\n",
       "Call:\n",
       "glm(formula = affection ~ age + rs1112, family = binomial(\"logit\"), \n",
       "    data = snp.data)\n",
       "\n",
       "Coefficients:\n",
       "             Estimate Std. Error z value Pr(>|z|)    \n",
       "(Intercept) -0.520422   0.250956  -2.074   0.0381 *  \n",
       "age          0.001322   0.004020   0.329   0.7423    \n",
       "rs1112       0.765189   0.135624   5.642 1.68e-08 ***\n",
       "---\n",
       "Signif. codes:  0 ‘***’ 0.001 ‘**’ 0.01 ‘*’ 0.05 ‘.’ 0.1 ‘ ’ 1\n",
       "\n",
       "(Dispersion parameter for binomial family taken to be 1)\n",
       "\n",
       "    Null deviance: 831.78  on 599  degrees of freedom\n",
       "Residual deviance: 797.64  on 597  degrees of freedom\n",
       "AIC: 803.64\n",
       "\n",
       "Number of Fisher Scoring iterations: 4\n"
      ]
     },
     "metadata": {},
     "output_type": "display_data"
    },
    {
     "data": {
      "text/plain": [
       "\n",
       "Call:\n",
       "glm(formula = affection ~ sex + age + rs1112, family = binomial(\"logit\"), \n",
       "    data = snp.data)\n",
       "\n",
       "Coefficients:\n",
       "             Estimate Std. Error z value Pr(>|z|)    \n",
       "(Intercept) -0.198133   0.263732  -0.751    0.452    \n",
       "sex2        -0.817603   0.172736  -4.733 2.21e-06 ***\n",
       "age          0.002084   0.004105   0.508    0.612    \n",
       "rs1112       0.771546   0.138411   5.574 2.48e-08 ***\n",
       "---\n",
       "Signif. codes:  0 ‘***’ 0.001 ‘**’ 0.01 ‘*’ 0.05 ‘.’ 0.1 ‘ ’ 1\n",
       "\n",
       "(Dispersion parameter for binomial family taken to be 1)\n",
       "\n",
       "    Null deviance: 831.78  on 599  degrees of freedom\n",
       "Residual deviance: 774.72  on 596  degrees of freedom\n",
       "AIC: 782.72\n",
       "\n",
       "Number of Fisher Scoring iterations: 4\n"
      ]
     },
     "metadata": {},
     "output_type": "display_data"
    },
    {
     "data": {
      "text/plain": [
       "\n",
       "Call:\n",
       "glm(formula = affection ~ rs1117 + rs1112, family = binomial(\"logit\"), \n",
       "    data = snp.data)\n",
       "\n",
       "Coefficients:\n",
       "            Estimate Std. Error z value Pr(>|z|)    \n",
       "(Intercept)  -0.4523     0.1144  -3.955 7.66e-05 ***\n",
       "rs1117        0.2853     0.2297   1.242  0.21431    \n",
       "rs1112        0.5999     0.1883   3.186  0.00144 ** \n",
       "---\n",
       "Signif. codes:  0 ‘***’ 0.001 ‘**’ 0.01 ‘*’ 0.05 ‘.’ 0.1 ‘ ’ 1\n",
       "\n",
       "(Dispersion parameter for binomial family taken to be 1)\n",
       "\n",
       "    Null deviance: 831.78  on 599  degrees of freedom\n",
       "Residual deviance: 796.21  on 597  degrees of freedom\n",
       "AIC: 802.21\n",
       "\n",
       "Number of Fisher Scoring iterations: 4\n"
      ]
     },
     "metadata": {},
     "output_type": "display_data"
    },
    {
     "data": {
      "text/html": [
       "<table class=\"dataframe\">\n",
       "<caption>A anova: 3 × 5</caption>\n",
       "<thead>\n",
       "\t<tr><th></th><th scope=col>Df</th><th scope=col>Deviance</th><th scope=col>Resid. Df</th><th scope=col>Resid. Dev</th><th scope=col>Pr(&gt;Chi)</th></tr>\n",
       "\t<tr><th></th><th scope=col>&lt;int&gt;</th><th scope=col>&lt;dbl&gt;</th><th scope=col>&lt;int&gt;</th><th scope=col>&lt;dbl&gt;</th><th scope=col>&lt;dbl&gt;</th></tr>\n",
       "</thead>\n",
       "<tbody>\n",
       "\t<tr><th scope=row>NULL</th><td>NA</td><td>      NA</td><td>599</td><td>831.7766</td><td>          NA</td></tr>\n",
       "\t<tr><th scope=row>rs1117</th><td> 1</td><td>25.06376</td><td>598</td><td>806.7129</td><td>5.546551e-07</td></tr>\n",
       "\t<tr><th scope=row>rs1112</th><td> 1</td><td>10.50081</td><td>597</td><td>796.2120</td><td>1.193220e-03</td></tr>\n",
       "</tbody>\n",
       "</table>\n"
      ],
      "text/latex": [
       "A anova: 3 × 5\n",
       "\\begin{tabular}{r|lllll}\n",
       "  & Df & Deviance & Resid. Df & Resid. Dev & Pr(>Chi)\\\\\n",
       "  & <int> & <dbl> & <int> & <dbl> & <dbl>\\\\\n",
       "\\hline\n",
       "\tNULL & NA &       NA & 599 & 831.7766 &           NA\\\\\n",
       "\trs1117 &  1 & 25.06376 & 598 & 806.7129 & 5.546551e-07\\\\\n",
       "\trs1112 &  1 & 10.50081 & 597 & 796.2120 & 1.193220e-03\\\\\n",
       "\\end{tabular}\n"
      ],
      "text/markdown": [
       "\n",
       "A anova: 3 × 5\n",
       "\n",
       "| <!--/--> | Df &lt;int&gt; | Deviance &lt;dbl&gt; | Resid. Df &lt;int&gt; | Resid. Dev &lt;dbl&gt; | Pr(&gt;Chi) &lt;dbl&gt; |\n",
       "|---|---|---|---|---|---|\n",
       "| NULL | NA |       NA | 599 | 831.7766 |           NA |\n",
       "| rs1117 |  1 | 25.06376 | 598 | 806.7129 | 5.546551e-07 |\n",
       "| rs1112 |  1 | 10.50081 | 597 | 796.2120 | 1.193220e-03 |\n",
       "\n"
      ],
      "text/plain": [
       "       Df Deviance Resid. Df Resid. Dev Pr(>Chi)    \n",
       "NULL   NA       NA 599       831.7766             NA\n",
       "rs1117  1 25.06376 598       806.7129   5.546551e-07\n",
       "rs1112  1 10.50081 597       796.2120   1.193220e-03"
      ]
     },
     "metadata": {},
     "output_type": "display_data"
    },
    {
     "data": {
      "text/plain": [
       "\n",
       "Call:\n",
       "glm(formula = affection ~ rs1112 + rs1117, family = binomial(\"logit\"), \n",
       "    data = snp.data)\n",
       "\n",
       "Coefficients:\n",
       "            Estimate Std. Error z value Pr(>|z|)    \n",
       "(Intercept)  -0.4523     0.1144  -3.955 7.66e-05 ***\n",
       "rs1112        0.5999     0.1883   3.186  0.00144 ** \n",
       "rs1117        0.2853     0.2297   1.242  0.21431    \n",
       "---\n",
       "Signif. codes:  0 ‘***’ 0.001 ‘**’ 0.01 ‘*’ 0.05 ‘.’ 0.1 ‘ ’ 1\n",
       "\n",
       "(Dispersion parameter for binomial family taken to be 1)\n",
       "\n",
       "    Null deviance: 831.78  on 599  degrees of freedom\n",
       "Residual deviance: 796.21  on 597  degrees of freedom\n",
       "AIC: 802.21\n",
       "\n",
       "Number of Fisher Scoring iterations: 4\n"
      ]
     },
     "metadata": {},
     "output_type": "display_data"
    },
    {
     "data": {
      "text/html": [
       "<table class=\"dataframe\">\n",
       "<caption>A anova: 3 × 5</caption>\n",
       "<thead>\n",
       "\t<tr><th></th><th scope=col>Df</th><th scope=col>Deviance</th><th scope=col>Resid. Df</th><th scope=col>Resid. Dev</th><th scope=col>Pr(&gt;Chi)</th></tr>\n",
       "\t<tr><th></th><th scope=col>&lt;int&gt;</th><th scope=col>&lt;dbl&gt;</th><th scope=col>&lt;int&gt;</th><th scope=col>&lt;dbl&gt;</th><th scope=col>&lt;dbl&gt;</th></tr>\n",
       "</thead>\n",
       "<tbody>\n",
       "\t<tr><th scope=row>NULL</th><td>NA</td><td>       NA</td><td>599</td><td>831.7766</td><td>          NA</td></tr>\n",
       "\t<tr><th scope=row>rs1112</th><td> 1</td><td>34.026174</td><td>598</td><td>797.7504</td><td>5.437568e-09</td></tr>\n",
       "\t<tr><th scope=row>rs1117</th><td> 1</td><td> 1.538401</td><td>597</td><td>796.2120</td><td>2.148560e-01</td></tr>\n",
       "</tbody>\n",
       "</table>\n"
      ],
      "text/latex": [
       "A anova: 3 × 5\n",
       "\\begin{tabular}{r|lllll}\n",
       "  & Df & Deviance & Resid. Df & Resid. Dev & Pr(>Chi)\\\\\n",
       "  & <int> & <dbl> & <int> & <dbl> & <dbl>\\\\\n",
       "\\hline\n",
       "\tNULL & NA &        NA & 599 & 831.7766 &           NA\\\\\n",
       "\trs1112 &  1 & 34.026174 & 598 & 797.7504 & 5.437568e-09\\\\\n",
       "\trs1117 &  1 &  1.538401 & 597 & 796.2120 & 2.148560e-01\\\\\n",
       "\\end{tabular}\n"
      ],
      "text/markdown": [
       "\n",
       "A anova: 3 × 5\n",
       "\n",
       "| <!--/--> | Df &lt;int&gt; | Deviance &lt;dbl&gt; | Resid. Df &lt;int&gt; | Resid. Dev &lt;dbl&gt; | Pr(&gt;Chi) &lt;dbl&gt; |\n",
       "|---|---|---|---|---|---|\n",
       "| NULL | NA |        NA | 599 | 831.7766 |           NA |\n",
       "| rs1112 |  1 | 34.026174 | 598 | 797.7504 | 5.437568e-09 |\n",
       "| rs1117 |  1 |  1.538401 | 597 | 796.2120 | 2.148560e-01 |\n",
       "\n"
      ],
      "text/plain": [
       "       Df Deviance  Resid. Df Resid. Dev Pr(>Chi)    \n",
       "NULL   NA        NA 599       831.7766             NA\n",
       "rs1112  1 34.026174 598       797.7504   5.437568e-09\n",
       "rs1117  1  1.538401 597       796.2120   2.148560e-01"
      ]
     },
     "metadata": {},
     "output_type": "display_data"
    }
   ],
   "source": [
    "# II. Adjustment for the effects of covariates and of other SNPs\n",
    "\n",
    "snp.data = dbp[,c(\"affection\", \"trait\",\"sex\", \"age\", \"rs1112\", \"rs1117\")]\n",
    "summary(snp.data)\n",
    "\n",
    "snp.data[,\"rs1112\"] <- as.numeric(snp.data[,\"rs1112\"]) - 1\n",
    "snp.data[,\"rs1117\"] <- as.numeric(snp.data[,\"rs1117\"]) - 1\n",
    "\n",
    "result.adj = glm (affection ~ sex + rs1112      , family=binomial(\"logit\"), \n",
    "                  data=snp.data)\n",
    "summary(result.adj)\n",
    "\n",
    "result.adj = glm (affection ~ age + rs1112      , family=binomial(\"logit\"), \n",
    "                  data=snp.data)\n",
    "summary(result.adj)\n",
    "\n",
    "result.adj = glm (affection ~ sex + age + rs1112, family=binomial(\"logit\"), \n",
    "                  data=snp.data)\n",
    "summary(result.adj)\n",
    "\n",
    "result.adj = glm (affection ~ rs1117 + rs1112, family=binomial(\"logit\"), \n",
    "                  data=snp.data)\n",
    "summary(result.adj)\n",
    "anova (result.adj, test=\"Chi\")\n",
    "\n",
    "result.adj = glm (affection ~ rs1112 + rs1117, family=binomial(\"logit\"), \n",
    "                  data=snp.data)\n",
    "summary(result.adj)\n",
    "anova (result.adj, test=\"Chi\")"
   ]
  },
  {
   "cell_type": "code",
   "execution_count": 12,
   "id": "5dab210f-6a2b-4907-b891-53c05d9dbdfd",
   "metadata": {
    "kernel": "R"
   },
   "outputs": [
    {
     "data": {
      "text/plain": [
       "\n",
       "Call:\n",
       "lm(formula = trait ~ rs1112, data = snp.data)\n",
       "\n",
       "Residuals:\n",
       "     Min       1Q   Median       3Q      Max \n",
       "-22.5556  -3.9106   0.2194   4.0144  15.4809 \n",
       "\n",
       "Coefficients:\n",
       "            Estimate Std. Error t value Pr(>|t|)    \n",
       "(Intercept)  80.1021     0.3301 242.680  < 2e-16 ***\n",
       "rs1112        2.9535     0.3774   7.826 2.29e-14 ***\n",
       "---\n",
       "Signif. codes:  0 ‘***’ 0.001 ‘**’ 0.01 ‘*’ 0.05 ‘.’ 0.1 ‘ ’ 1\n",
       "\n",
       "Residual standard error: 5.954 on 598 degrees of freedom\n",
       "Multiple R-squared:  0.09291,\tAdjusted R-squared:  0.09139 \n",
       "F-statistic: 61.25 on 1 and 598 DF,  p-value: 2.292e-14\n"
      ]
     },
     "metadata": {},
     "output_type": "display_data"
    },
    {
     "data": {
      "text/plain": [
       "\n",
       "Call:\n",
       "lm(formula = trait ~ sex + rs1112, data = snp.data)\n",
       "\n",
       "Residuals:\n",
       "     Min       1Q   Median       3Q      Max \n",
       "-20.9404  -3.6272   0.2234   3.7815  16.3480 \n",
       "\n",
       "Coefficients:\n",
       "            Estimate Std. Error t value Pr(>|t|)    \n",
       "(Intercept)  81.4542     0.3904 208.654  < 2e-16 ***\n",
       "sex2         -2.8823     0.4748  -6.071 2.27e-09 ***\n",
       "rs1112        2.8685     0.3668   7.820 2.41e-14 ***\n",
       "---\n",
       "Signif. codes:  0 ‘***’ 0.001 ‘**’ 0.01 ‘*’ 0.05 ‘.’ 0.1 ‘ ’ 1\n",
       "\n",
       "Residual standard error: 5.784 on 597 degrees of freedom\n",
       "Multiple R-squared:  0.1456,\tAdjusted R-squared:  0.1428 \n",
       "F-statistic: 50.89 on 2 and 597 DF,  p-value: < 2.2e-16\n"
      ]
     },
     "metadata": {},
     "output_type": "display_data"
    }
   ],
   "source": [
    "# III. Analysis of quantitative instead of dichotomized trait\n",
    "\n",
    "result.adj = lm (trait ~ rs1112      , data=snp.data)\n",
    "summary(result.adj)\n",
    "\n",
    "result.adj = lm (trait ~ sex + rs1112, data=snp.data)\n",
    "summary(result.adj)\n"
   ]
  },
  {
   "cell_type": "code",
   "execution_count": 13,
   "id": "4102ab5e-c9f6-4b03-92b6-b245cbfc285b",
   "metadata": {
    "kernel": "R"
   },
   "outputs": [
    {
     "data": {
      "text/plain": [
       "\n",
       "Call:\n",
       "glm(formula = affection ~ sex * rs1112, family = binomial(\"logit\"), \n",
       "    data = snp.data)\n",
       "\n",
       "Coefficients:\n",
       "            Estimate Std. Error z value Pr(>|z|)    \n",
       "(Intercept) -0.09415    0.15371  -0.613 0.540174    \n",
       "sex2        -0.79026    0.23515  -3.361 0.000777 ***\n",
       "rs1112       0.79049    0.18896   4.183 2.87e-05 ***\n",
       "sex2:rs1112 -0.04141    0.27771  -0.149 0.881472    \n",
       "---\n",
       "Signif. codes:  0 ‘***’ 0.001 ‘**’ 0.01 ‘*’ 0.05 ‘.’ 0.1 ‘ ’ 1\n",
       "\n",
       "(Dispersion parameter for binomial family taken to be 1)\n",
       "\n",
       "    Null deviance: 831.78  on 599  degrees of freedom\n",
       "Residual deviance: 774.96  on 596  degrees of freedom\n",
       "AIC: 782.96\n",
       "\n",
       "Number of Fisher Scoring iterations: 4\n"
      ]
     },
     "metadata": {},
     "output_type": "display_data"
    },
    {
     "data": {
      "text/plain": [
       "\n",
       "Call:\n",
       "glm(formula = affection ~ age * rs1112, family = binomial(\"logit\"), \n",
       "    data = snp.data)\n",
       "\n",
       "Coefficients:\n",
       "             Estimate Std. Error z value Pr(>|z|)   \n",
       "(Intercept) -0.764365   0.328207  -2.329  0.01986 * \n",
       "age          0.005719   0.005508   1.038  0.29909   \n",
       "rs1112       1.193715   0.393377   3.035  0.00241 **\n",
       "age:rs1112  -0.007716   0.006585  -1.172  0.24130   \n",
       "---\n",
       "Signif. codes:  0 ‘***’ 0.001 ‘**’ 0.01 ‘*’ 0.05 ‘.’ 0.1 ‘ ’ 1\n",
       "\n",
       "(Dispersion parameter for binomial family taken to be 1)\n",
       "\n",
       "    Null deviance: 831.78  on 599  degrees of freedom\n",
       "Residual deviance: 796.26  on 596  degrees of freedom\n",
       "AIC: 804.26\n",
       "\n",
       "Number of Fisher Scoring iterations: 4\n"
      ]
     },
     "metadata": {},
     "output_type": "display_data"
    },
    {
     "data": {
      "text/plain": [
       "\n",
       "Call:\n",
       "glm(formula = affection ~ rs1112 * rs1117, family = binomial(\"logit\"), \n",
       "    data = snp.data)\n",
       "\n",
       "Coefficients:\n",
       "              Estimate Std. Error z value Pr(>|z|)    \n",
       "(Intercept)   -0.45855    0.11749  -3.903  9.5e-05 ***\n",
       "rs1112         0.61285    0.19612   3.125  0.00178 ** \n",
       "rs1117         0.37232    0.43522   0.855  0.39228    \n",
       "rs1112:rs1117 -0.07464    0.31590  -0.236  0.81323    \n",
       "---\n",
       "Signif. codes:  0 ‘***’ 0.001 ‘**’ 0.01 ‘*’ 0.05 ‘.’ 0.1 ‘ ’ 1\n",
       "\n",
       "(Dispersion parameter for binomial family taken to be 1)\n",
       "\n",
       "    Null deviance: 831.78  on 599  degrees of freedom\n",
       "Residual deviance: 796.16  on 596  degrees of freedom\n",
       "AIC: 804.16\n",
       "\n",
       "Number of Fisher Scoring iterations: 4\n"
      ]
     },
     "metadata": {},
     "output_type": "display_data"
    }
   ],
   "source": [
    "# IV. Gene-environment (GxE) and gene-gene (GxG) interaction\n",
    "\n",
    "result.inter = glm (affection ~ sex * rs1112, family=binomial(\"logit\"), \n",
    "                    data=snp.data)\n",
    "summary(result.inter)\n",
    "\n",
    "result.inter = glm (affection ~ age * rs1112, family=binomial(\"logit\"), \n",
    "                    data=snp.data)\n",
    "summary(result.inter)\n",
    "\n",
    "result.inter = glm (affection ~ rs1112 * rs1117, family=binomial(\"logit\"), \n",
    "                    data=snp.data)\n",
    "summary(result.inter)"
   ]
  },
  {
   "cell_type": "code",
   "execution_count": null,
   "id": "65029901-7822-4f6a-aef9-8629b0c21e09",
   "metadata": {
    "kernel": "R"
   },
   "outputs": [],
   "source": []
  },
  {
   "cell_type": "code",
   "execution_count": null,
   "id": "f31ab497-2221-4cbf-9ed4-f189deef5940",
   "metadata": {
    "kernel": "R"
   },
   "outputs": [],
   "source": []
  },
  {
   "cell_type": "code",
   "execution_count": null,
   "id": "b36740d6-5b57-40e0-8491-45384737ffb6",
   "metadata": {
    "kernel": "R"
   },
   "outputs": [],
   "source": []
  }
 ],
 "metadata": {
  "kernelspec": {
   "display_name": "SoS",
   "language": "sos",
   "name": "sos"
  },
  "language_info": {
   "codemirror_mode": "sos",
   "file_extension": ".sos",
   "mimetype": "text/x-sos",
   "name": "sos",
   "nbconvert_exporter": "sos_notebook.converter.SoS_Exporter",
   "pygments_lexer": "sos"
  },
  "sos": {
   "kernels": [
    [
     "Bash",
     "calysto_bash",
     "Bash",
     "#E6EEFF",
     "shell"
    ],
    [
     "R",
     "ir",
     "R",
     "#DCDCDA",
     "r"
    ]
   ],
   "version": ""
  }
 },
 "nbformat": 4,
 "nbformat_minor": 5
}
