{
 "cells": [
  {
   "cell_type": "code",
   "execution_count": null,
   "id": "af0ac8c3-2d26-4708-9263-03c54863dc7c",
   "metadata": {
    "kernel": "Bash",
    "scrolled": true
   },
   "outputs": [],
   "source": [
    "plink\\\n",
    " --bfile pleiotropy_exercise\\\n",
    " --pheno pleiotropy_exercise_phenotypes.txt\\\n",
    " --pheno-name Trait1\\\n",
    " --sex\\\n",
    " --linear\\\n",
    " --out Trait1\n",
    " \n",
    "plink\\\n",
    " --bfile pleiotropy_exercise\\\n",
    " --pheno pleiotropy_exercise_phenotypes.txt\\\n",
    " --pheno-name Trait2\\\n",
    " --sex\\\n",
    " --linear\\\n",
    " --out Trait2\n",
    "\n",
    "grep 'TEST' Trait1.assoc.linear > Trait1_snp.assoc.linear\n",
    "grep 'ADD' Trait1.assoc.linear >> Trait1_snp.assoc.linear\n",
    "grep 'TEST' Trait2.assoc.linear > Trait2_snp.assoc.linear\n",
    "grep 'ADD' Trait2.assoc.linear >> Trait2_snp.assoc.linear"
   ]
  },
  {
   "cell_type": "code",
   "execution_count": null,
   "id": "2ede317f-01e7-427d-ae16-670c870969ea",
   "metadata": {
    "kernel": "R",
    "scrolled": true
   },
   "outputs": [],
   "source": [
    "library(hudson)\n",
    "\n",
    "dat1<-read.table(\"Trait1_snp.assoc.linear\",header=T)\n",
    "dat2<-read.table(\"Trait2_snp.assoc.linear\",header=T)\n",
    "names(dat1)<-c(\"CHR\", \"SNP\", \"POS\", \"A1\", \"TEST\", \"NMISS\", \"BETA\", \"STAT\", \"pvalue\")\n",
    "names(dat2)<-(names(dat1))\n",
    "gmirror(top=dat1, bottom=dat2, tline=5e-08, bline=5e-08,\n",
    "    toptitle=\"Trait1\", bottomtitle = \"Trait2\",\n",
    "    highlight_p = c(0.00000005,0.00000005), highlighter=\"green\",\n",
    "    file = 'pleiotropy_hudson', res = 300, type = 'pdf')\n",
    "\n",
    "Trait1 <- read.table(\"Trait1_snp.assoc.linear\", header = T)\n",
    "Trait2 <- read.table(\"Trait2_snp.assoc.linear\", header = T)\n",
    "SigTrait1 <- subset(Trait1, P<0.00000005)\n",
    "SigTrait2 <- subset(Trait2, P<0.00000005)\n",
    "intersect(SigTrait1$SNP, SigTrait2$SNP)"
   ]
  },
  {
   "cell_type": "code",
   "execution_count": null,
   "id": "7e82b328-5d88-4b25-a44c-20d92af7a978",
   "metadata": {
    "kernel": "Bash",
    "scrolled": true
   },
   "outputs": [],
   "source": [
    "plink\\\n",
    " --bfile pleiotropy_exercise\\\n",
    " --clump Trait1_snp.assoc.linear,Trait2_snp.assoc.linear\\\n",
    " --clump-kb 250\\\n",
    " --clump-p1 5e-8\\\n",
    " --clump-p2 5e-8\\\n",
    " --clump-r2 0.2\\\n",
    " --clump-replicate\\\n",
    " --clump-verbose\\\n",
    " --out Trait1_Trait2_clump\n",
    "\n",
    "export PATH=\"/home/ubuntu/bin:$PATH\"\n",
    "\n",
    "plink.multivariate\\\n",
    " --noweb\\\n",
    " --bfile pleiotropy_exercise\\\n",
    " --mult-pheno pleiotropy_exercise_phenotypes.txt\\\n",
    " --sex\\\n",
    " --mqfam\\\n",
    " --out Trait1_Trait2"
   ]
  },
  {
   "cell_type": "code",
   "execution_count": null,
   "id": "886724f9-13fb-4266-986e-062445e2cf02",
   "metadata": {
    "kernel": "R"
   },
   "outputs": [],
   "source": [
    "Trait1<-read.table(\"Trait1_snp.assoc.linear\", header=T)\n",
    "Trait2<-read.table(\"Trait2_snp.assoc.linear\", header=T)\n",
    "multi<-read.table(\"Trait1_Trait2.mqfam.total\", header=T)\n",
    "sigMulti<-subset(multi, P<0.00000005)\n",
    "suggTrait1<-subset(Trait1, P<0.000005)\n",
    "suggTrait2<-subset(Trait2, P<0.000005)\n",
    "Reduce(intersect, list(suggTrait1$SNP, suggTrait2$SNP, sigMulti$SNP))"
   ]
  },
  {
   "cell_type": "code",
   "execution_count": null,
   "id": "2460dabc-0f73-4fc7-8b4c-244d67494697",
   "metadata": {
    "kernel": "Bash"
   },
   "outputs": [],
   "source": [
    "plink\\\n",
    " --bfile pleiotropy_exercise\\\n",
    " --clump Trait1_snp.assoc.linear,Trait2_snp.assoc.linear\\\n",
    " --clump-p1 0.000005\\\n",
    " --clump-p2 0.000005\\\n",
    " --clump-r2 0.2\\\n",
    " --clump-replicate\\\n",
    " --clump-verbose\\\n",
    " --out Trait1_Trait2_clump_suggestive\n"
   ]
  },
  {
   "cell_type": "code",
   "execution_count": null,
   "id": "c249f351-401c-44ca-b15b-5bacbb4705c6",
   "metadata": {
    "kernel": "Bash"
   },
   "outputs": [],
   "source": [
    "plink\\\n",
    " --bfile pleiotropy_exercise\\\n",
    " --recodeA\\\n",
    " --extract Trait1_snp.assoc.linear\\\n",
    " --out snps_for_mediation"
   ]
  },
  {
   "cell_type": "code",
   "execution_count": null,
   "id": "21f318a9",
   "metadata": {
    "vscode": {
     "languageId": "r"
    }
   },
   "outputs": [],
   "source": [
    "library(mediation)\n",
    "genotypes <- read.table(\"snps_for_mediation.raw\", header=T)\n",
    "phenotypes<-read.table(\"pleiotropy_exercise_phenotypes.txt\", header=T)\n",
    "combined<-merge(genotypes,phenotypes)\n",
    "med.fit<-lm(Trait1~rs125_0, data=combined)\n",
    "out.fit<-lm(Trait2~Trait1+rs125_0, data=combined)\n",
    "med.out<-mediate(med.fit,out.fit,treat=\"rs125_0\", mediator=\"Trait1\", boot=TRUE, boot.ci.type=\"bca\", sims=1000)\n",
    "summary(med.out)"
   ]
  }
 ],
 "metadata": {
  "kernelspec": {
   "display_name": "SoS",
   "language": "sos",
   "name": "sos"
  },
  "language_info": {
   "codemirror_mode": "sos",
   "file_extension": ".sos",
   "mimetype": "text/x-sos",
   "name": "sos",
   "nbconvert_exporter": "sos_notebook.converter.SoS_Exporter",
   "pygments_lexer": "sos"
  },
  "sos": {
   "kernels": [
    [
     "Bash",
     "calysto_bash",
     "Bash",
     "#E6EEFF",
     "shell"
    ],
    [
     "R",
     "ir",
     "R",
     "#DCDCDA",
     "r"
    ]
   ],
   "version": ""
  }
 },
 "nbformat": 4,
 "nbformat_minor": 5
}
